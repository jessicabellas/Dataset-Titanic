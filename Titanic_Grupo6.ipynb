{
  "nbformat": 4,
  "nbformat_minor": 0,
  "metadata": {
    "colab": {
      "name": "Titanic_Grupo6.ipynb",
      "provenance": [],
      "collapsed_sections": [],
      "toc_visible": true,
      "include_colab_link": true
    },
    "kernelspec": {
      "name": "python3",
      "display_name": "Python 3"
    }
  },
  "cells": [
    {
      "cell_type": "markdown",
      "metadata": {
        "id": "view-in-github",
        "colab_type": "text"
      },
      "source": [
        "<a href=\"https://colab.research.google.com/github/jessicabellas/Dataset-Titanic/blob/master/Titanic_Grupo6.ipynb\" target=\"_parent\"><img src=\"https://colab.research.google.com/assets/colab-badge.svg\" alt=\"Open In Colab\"/></a>"
      ]
    },
    {
      "cell_type": "markdown",
      "metadata": {
        "id": "ArvSFgqr6m5J",
        "colab_type": "text"
      },
      "source": [
        "![texto alternativo](data:image/png;base64,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) \n",
        "# Especialização em Ciência de Dados - PUC-Rio\n",
        "\n",
        "---\n",
        "\n",
        "\n",
        "# Machine Learning - Prof. Tatiana Escovedo\n",
        "# Grupo 6: Jessica Bellas, Louise de Paula, Lucas de Oliveira e Rômulo Loretti.\n",
        "\n",
        "## Trabalho de Classificação utilizando Machine Learning"
      ]
    },
    {
      "cell_type": "markdown",
      "metadata": {
        "id": "k6eQSJ7U2Cg8",
        "colab_type": "text"
      },
      "source": [
        "![texto alternativo](https://miro.medium.com/max/1050/1*ePbfZdw6sz397xLWlFZLCQ.jpeg)"
      ]
    },
    {
      "cell_type": "markdown",
      "metadata": {
        "id": "2y4P4TGSt3Yc",
        "colab_type": "text"
      },
      "source": [
        "# **História do Titanic**\n",
        "\n",
        "###O naufrágio do Titanic é um dos naufrágios mais infames da história.\n",
        "\n",
        "###Em 15 de abril de 1912, durante sua viagem inaugural, o amplamente considerado \"inafundável\" RMS Titanic afundou após colidir com um iceberg. Infelizmente, não havia barcos salva-vidas suficientes para todos a bordo, resultando na morte de 1502 dos 2224 passageiros e tripulantes."
      ]
    },
    {
      "cell_type": "markdown",
      "metadata": {
        "id": "TOMOkYbJzq88",
        "colab_type": "text"
      },
      "source": [
        "# **1. Definição do Problema**\n",
        "\n",
        "Para este experimento, vamos utilizar o dataset \"TITANIC: Machine Learning from Disaster\" do site Kaggle. \n",
        "\n",
        "Esse problema nos leva a vários questionamentos, como por exemplo, \"que tipo de pessoas têm mais probabilidade de sobreviver?\". Existem pesquisas que informam que muitas pessoas sobreviveram através do embarque em botes salva-vidas por serem de classe social alta. Nosso desafio é descobrir padrões entre os sobreviventes a partir de questionamentos. Será se classe mais alta teve mais chance de sobrevivência que a de classe mais baixa? Qual foi a proporção de homens e mulheres que sobreviveram a tragédia? E as crianças conseguiram sobreviver? Enfim, inúmeros questionamentos que utilizaremos para tratar os dados e recolher o máximo de informações.\n",
        "\n",
        "Nosso objetivo será predizer se um passageiro com determinadas características/atributos seria morto ou sobreviveria ao acidente. \n",
        "\n",
        "Esse dataset é composto por 12 atributos e 1309 linhas.\n",
        "\n",
        "No Kaggle o dataset já estava dividido em treino e teste, mas consolidamos os 2 datasets em um dataset único. \n",
        "\n",
        "### Atributos:\n",
        "* **PassengerId**: Identificador do passageiro\n",
        "* **Pclass**: Tipo de acomodação (1 = primeira, 2 = segunda, 3 = terceira)\n",
        "* **Name**: Nome\n",
        "* **Sex**: Sexo\n",
        "* **Age**: Idade em anos\n",
        "* **SibSp**: Nº de irmãos/cônjugues embarcado\n",
        "* **Parch**: Nº de pais/filhos embarcado\n",
        "* **Ticket**: Número do cartão de embarque\n",
        "* **Fare**: Tarifa\n",
        "* **Cabin**: Número da cabine\n",
        "* **Embarked**: Local de embarque (C = Cherbourg, Q = Queenstown, S = Southampton)\n",
        "* **Survived**: Sobrevivente (0 = Não, 1 = Sim)\n",
        "\n"
      ]
    },
    {
      "cell_type": "markdown",
      "metadata": {
        "id": "6q1h3PlD50Vy",
        "colab_type": "text"
      },
      "source": [
        "Começaremos com as importações dos pacotes que iremos utilizar."
      ]
    },
    {
      "cell_type": "code",
      "metadata": {
        "id": "wOxEIp8eEUeo",
        "colab_type": "code",
        "colab": {}
      },
      "source": [
        "# configuração para não exibir os warnings\n",
        "import warnings\n",
        "warnings.filterwarnings(\"ignore\") \n",
        "\n",
        "\n",
        "# Importação de pacotes\n",
        "\n",
        "import pandas as pd\n",
        "import numpy as np\n",
        "import re as re\n",
        "import matplotlib\n",
        "import matplotlib.pyplot as plt\n",
        "import seaborn as sns\n",
        "import missingno as ms # para tratamento de missings\n",
        "from sklearn import svm\n",
        "from matplotlib import cm\n",
        "from pandas import set_option\n",
        "from pandas.plotting import scatter_matrix\n",
        "from sklearn import preprocessing\n",
        "from sklearn.preprocessing import StandardScaler # para padronização\n",
        "from sklearn.preprocessing import MinMaxScaler # para normalização\n",
        "from sklearn.model_selection import train_test_split\n",
        "from sklearn.model_selection import KFold\n",
        "from sklearn.model_selection import cross_val_score\n",
        "from sklearn.model_selection import GridSearchCV\n",
        "from sklearn.metrics import classification_report\n",
        "from sklearn.metrics import confusion_matrix\n",
        "from sklearn.metrics import accuracy_score\n",
        "from sklearn.pipeline import Pipeline\n",
        "from sklearn.linear_model import LogisticRegression\n",
        "from sklearn.tree import DecisionTreeClassifier\n",
        "from sklearn.neighbors import KNeighborsClassifier\n",
        "from sklearn.naive_bayes import GaussianNB\n",
        "from sklearn.svm import SVC\n",
        "from sklearn.ensemble import AdaBoostClassifier\n",
        "from sklearn.ensemble import GradientBoostingClassifier\n",
        "from sklearn.ensemble import RandomForestClassifier\n",
        "from sklearn.ensemble import ExtraTreesClassifier\n",
        "\n"
      ],
      "execution_count": 1,
      "outputs": []
    },
    {
      "cell_type": "markdown",
      "metadata": {
        "id": "eSTz7HMGhqQN",
        "colab_type": "text"
      },
      "source": [
        "#**2. Carga de Dados** \n",
        "\n",
        "###Iremos usar o pacote Pandas ( Python Data Analysis Library) para carregar de um arquivo .csv.\n",
        "\n",
        "###Após o dataset ser carregado, iremos explorá-lo."
      ]
    },
    {
      "cell_type": "code",
      "metadata": {
        "id": "RNK9rNTMNSUB",
        "colab_type": "code",
        "colab": {
          "base_uri": "https://localhost:8080/",
          "height": 231
        },
        "outputId": "8a02a69d-3eb3-4b39-f6b1-eed7d0ab24c6"
      },
      "source": [
        "titanic = pd.read_csv('titanic.csv')\n",
        "titanic.head()"
      ],
      "execution_count": 2,
      "outputs": [
        {
          "output_type": "execute_result",
          "data": {
            "text/html": [
              "<div>\n",
              "<style scoped>\n",
              "    .dataframe tbody tr th:only-of-type {\n",
              "        vertical-align: middle;\n",
              "    }\n",
              "\n",
              "    .dataframe tbody tr th {\n",
              "        vertical-align: top;\n",
              "    }\n",
              "\n",
              "    .dataframe thead th {\n",
              "        text-align: right;\n",
              "    }\n",
              "</style>\n",
              "<table border=\"1\" class=\"dataframe\">\n",
              "  <thead>\n",
              "    <tr style=\"text-align: right;\">\n",
              "      <th></th>\n",
              "      <th>PassengerId</th>\n",
              "      <th>Pclass</th>\n",
              "      <th>Name</th>\n",
              "      <th>Sex</th>\n",
              "      <th>Age</th>\n",
              "      <th>SibSp</th>\n",
              "      <th>Parch</th>\n",
              "      <th>Ticket</th>\n",
              "      <th>Fare</th>\n",
              "      <th>Cabin</th>\n",
              "      <th>Embarked</th>\n",
              "      <th>Survived</th>\n",
              "    </tr>\n",
              "  </thead>\n",
              "  <tbody>\n",
              "    <tr>\n",
              "      <th>0</th>\n",
              "      <td>1</td>\n",
              "      <td>3.0</td>\n",
              "      <td>Mr. Owen HarrisBraund</td>\n",
              "      <td>male</td>\n",
              "      <td>22.0</td>\n",
              "      <td>1.0</td>\n",
              "      <td>0.0</td>\n",
              "      <td>A/5 21171</td>\n",
              "      <td>7.25</td>\n",
              "      <td>NaN</td>\n",
              "      <td>S</td>\n",
              "      <td>0.0</td>\n",
              "    </tr>\n",
              "    <tr>\n",
              "      <th>1</th>\n",
              "      <td>2</td>\n",
              "      <td>1.0</td>\n",
              "      <td>Mrs. John Bradley (Florence Briggs Thayer)Cum...</td>\n",
              "      <td>female</td>\n",
              "      <td>38.0</td>\n",
              "      <td>1.0</td>\n",
              "      <td>0.0</td>\n",
              "      <td>PC 17599</td>\n",
              "      <td>712833.00</td>\n",
              "      <td>C85</td>\n",
              "      <td>C</td>\n",
              "      <td>1.0</td>\n",
              "    </tr>\n",
              "    <tr>\n",
              "      <th>2</th>\n",
              "      <td>3</td>\n",
              "      <td>3.0</td>\n",
              "      <td>Miss. LainaHeikkinen</td>\n",
              "      <td>female</td>\n",
              "      <td>26.0</td>\n",
              "      <td>0.0</td>\n",
              "      <td>0.0</td>\n",
              "      <td>STON/O2. 3101282</td>\n",
              "      <td>7925.00</td>\n",
              "      <td>NaN</td>\n",
              "      <td>S</td>\n",
              "      <td>1.0</td>\n",
              "    </tr>\n",
              "    <tr>\n",
              "      <th>3</th>\n",
              "      <td>4</td>\n",
              "      <td>1.0</td>\n",
              "      <td>Mrs. Jacques Heath (Lily May Peel)Futrelle</td>\n",
              "      <td>female</td>\n",
              "      <td>35.0</td>\n",
              "      <td>1.0</td>\n",
              "      <td>0.0</td>\n",
              "      <td>113803</td>\n",
              "      <td>53.10</td>\n",
              "      <td>C123</td>\n",
              "      <td>S</td>\n",
              "      <td>1.0</td>\n",
              "    </tr>\n",
              "    <tr>\n",
              "      <th>4</th>\n",
              "      <td>5</td>\n",
              "      <td>3.0</td>\n",
              "      <td>Mr. William HenryAllen</td>\n",
              "      <td>male</td>\n",
              "      <td>35.0</td>\n",
              "      <td>0.0</td>\n",
              "      <td>0.0</td>\n",
              "      <td>373450</td>\n",
              "      <td>8.05</td>\n",
              "      <td>NaN</td>\n",
              "      <td>S</td>\n",
              "      <td>0.0</td>\n",
              "    </tr>\n",
              "  </tbody>\n",
              "</table>\n",
              "</div>"
            ],
            "text/plain": [
              "  PassengerId  Pclass  ... Embarked Survived\n",
              "0           1     3.0  ...        S      0.0\n",
              "1           2     1.0  ...        C      1.0\n",
              "2           3     3.0  ...        S      1.0\n",
              "3           4     1.0  ...        S      1.0\n",
              "4           5     3.0  ...        S      0.0\n",
              "\n",
              "[5 rows x 12 columns]"
            ]
          },
          "metadata": {
            "tags": []
          },
          "execution_count": 2
        }
      ]
    },
    {
      "cell_type": "markdown",
      "metadata": {
        "id": "-VScUjcjNjE0",
        "colab_type": "text"
      },
      "source": [
        "# **3. Análise Exploratória dos Dados**\n",
        "### O objetivo dessa fase é conhecer melhor os dados disponíveis no dataset.  "
      ]
    },
    {
      "cell_type": "markdown",
      "metadata": {
        "id": "BBvBKpgnixFV",
        "colab_type": "text"
      },
      "source": [
        "###3.1 Estatísticas Descritivas:"
      ]
    },
    {
      "cell_type": "code",
      "metadata": {
        "id": "8-90vUsEhN3X",
        "colab_type": "code",
        "colab": {
          "base_uri": "https://localhost:8080/",
          "height": 34
        },
        "outputId": "d585d944-2152-4d0c-9d41-1b90fc50a93b"
      },
      "source": [
        "# Mostra as dimensões do dataset\n",
        "titanic.shape"
      ],
      "execution_count": null,
      "outputs": [
        {
          "output_type": "execute_result",
          "data": {
            "text/plain": [
              "(1309, 12)"
            ]
          },
          "metadata": {
            "tags": []
          },
          "execution_count": 138
        }
      ]
    },
    {
      "cell_type": "code",
      "metadata": {
        "id": "hMC-mImVhNn8",
        "colab_type": "code",
        "colab": {
          "base_uri": "https://localhost:8080/",
          "height": 354
        },
        "outputId": "e4a90969-0063-4d65-dc0c-83c39b6e4bfd"
      },
      "source": [
        "# Mostra as informações do dataset\n",
        "titanic.info()"
      ],
      "execution_count": null,
      "outputs": [
        {
          "output_type": "stream",
          "text": [
            "<class 'pandas.core.frame.DataFrame'>\n",
            "RangeIndex: 1309 entries, 0 to 1308\n",
            "Data columns (total 12 columns):\n",
            " #   Column       Non-Null Count  Dtype  \n",
            "---  ------       --------------  -----  \n",
            " 0   PassengerId  1309 non-null   int64  \n",
            " 1   Pclass       1309 non-null   int64  \n",
            " 2   Name         1309 non-null   object \n",
            " 3   Sex          1309 non-null   object \n",
            " 4   Age          1046 non-null   float64\n",
            " 5   SibSp        1309 non-null   int64  \n",
            " 6   Parch        1309 non-null   int64  \n",
            " 7   Ticket       1309 non-null   object \n",
            " 8   Fare         1308 non-null   float64\n",
            " 9   Cabin        295 non-null    object \n",
            " 10  Embarked     1307 non-null   object \n",
            " 11  Survived     1309 non-null   int64  \n",
            "dtypes: float64(2), int64(5), object(5)\n",
            "memory usage: 122.8+ KB\n"
          ],
          "name": "stdout"
        }
      ]
    },
    {
      "cell_type": "code",
      "metadata": {
        "id": "6hMyX3ALjt7n",
        "colab_type": "code",
        "colab": {
          "base_uri": "https://localhost:8080/",
          "height": 197
        },
        "outputId": "c3ef2c08-93ce-4779-8713-377f372e22eb"
      },
      "source": [
        "titanic.tail()"
      ],
      "execution_count": null,
      "outputs": [
        {
          "output_type": "execute_result",
          "data": {
            "text/html": [
              "<div>\n",
              "<style scoped>\n",
              "    .dataframe tbody tr th:only-of-type {\n",
              "        vertical-align: middle;\n",
              "    }\n",
              "\n",
              "    .dataframe tbody tr th {\n",
              "        vertical-align: top;\n",
              "    }\n",
              "\n",
              "    .dataframe thead th {\n",
              "        text-align: right;\n",
              "    }\n",
              "</style>\n",
              "<table border=\"1\" class=\"dataframe\">\n",
              "  <thead>\n",
              "    <tr style=\"text-align: right;\">\n",
              "      <th></th>\n",
              "      <th>PassengerId</th>\n",
              "      <th>Pclass</th>\n",
              "      <th>Name</th>\n",
              "      <th>Sex</th>\n",
              "      <th>Age</th>\n",
              "      <th>SibSp</th>\n",
              "      <th>Parch</th>\n",
              "      <th>Ticket</th>\n",
              "      <th>Fare</th>\n",
              "      <th>Cabin</th>\n",
              "      <th>Embarked</th>\n",
              "      <th>Survived</th>\n",
              "    </tr>\n",
              "  </thead>\n",
              "  <tbody>\n",
              "    <tr>\n",
              "      <th>1304</th>\n",
              "      <td>1305</td>\n",
              "      <td>3</td>\n",
              "      <td>Spector, Mr. Woolf</td>\n",
              "      <td>male</td>\n",
              "      <td>NaN</td>\n",
              "      <td>0</td>\n",
              "      <td>0</td>\n",
              "      <td>A.5. 3236</td>\n",
              "      <td>8.0500</td>\n",
              "      <td>NaN</td>\n",
              "      <td>S</td>\n",
              "      <td>0</td>\n",
              "    </tr>\n",
              "    <tr>\n",
              "      <th>1305</th>\n",
              "      <td>1306</td>\n",
              "      <td>1</td>\n",
              "      <td>Oliva y Ocana, Dona. Fermina</td>\n",
              "      <td>female</td>\n",
              "      <td>39.0</td>\n",
              "      <td>0</td>\n",
              "      <td>0</td>\n",
              "      <td>PC 17758</td>\n",
              "      <td>108.9000</td>\n",
              "      <td>C105</td>\n",
              "      <td>C</td>\n",
              "      <td>1</td>\n",
              "    </tr>\n",
              "    <tr>\n",
              "      <th>1306</th>\n",
              "      <td>1307</td>\n",
              "      <td>3</td>\n",
              "      <td>Saether, Mr. Simon Sivertsen</td>\n",
              "      <td>male</td>\n",
              "      <td>38.5</td>\n",
              "      <td>0</td>\n",
              "      <td>0</td>\n",
              "      <td>SOTON/O.Q. 3101262</td>\n",
              "      <td>7.2500</td>\n",
              "      <td>NaN</td>\n",
              "      <td>S</td>\n",
              "      <td>0</td>\n",
              "    </tr>\n",
              "    <tr>\n",
              "      <th>1307</th>\n",
              "      <td>1308</td>\n",
              "      <td>3</td>\n",
              "      <td>Ware, Mr. Frederick</td>\n",
              "      <td>male</td>\n",
              "      <td>NaN</td>\n",
              "      <td>0</td>\n",
              "      <td>0</td>\n",
              "      <td>359309</td>\n",
              "      <td>8.0500</td>\n",
              "      <td>NaN</td>\n",
              "      <td>S</td>\n",
              "      <td>0</td>\n",
              "    </tr>\n",
              "    <tr>\n",
              "      <th>1308</th>\n",
              "      <td>1309</td>\n",
              "      <td>3</td>\n",
              "      <td>Peter, Master. Michael J</td>\n",
              "      <td>male</td>\n",
              "      <td>NaN</td>\n",
              "      <td>1</td>\n",
              "      <td>1</td>\n",
              "      <td>2668</td>\n",
              "      <td>22.3583</td>\n",
              "      <td>NaN</td>\n",
              "      <td>C</td>\n",
              "      <td>0</td>\n",
              "    </tr>\n",
              "  </tbody>\n",
              "</table>\n",
              "</div>"
            ],
            "text/plain": [
              "      PassengerId  Pclass  ... Embarked Survived\n",
              "1304         1305       3  ...        S        0\n",
              "1305         1306       1  ...        C        1\n",
              "1306         1307       3  ...        S        0\n",
              "1307         1308       3  ...        S        0\n",
              "1308         1309       3  ...        C        0\n",
              "\n",
              "[5 rows x 12 columns]"
            ]
          },
          "metadata": {
            "tags": []
          },
          "execution_count": 72
        }
      ]
    },
    {
      "cell_type": "markdown",
      "metadata": {
        "id": "GmFFCW2GYmG3",
        "colab_type": "text"
      },
      "source": [
        "Iremos excluir de início algumas colunas que não serão necessárias para o nosso estudo de caso."
      ]
    },
    {
      "cell_type": "code",
      "metadata": {
        "id": "SdLX778vYluo",
        "colab_type": "code",
        "colab": {}
      },
      "source": [
        "titanic = titanic.drop(columns=['PassengerId', 'Name', 'Cabin', 'Ticket'])"
      ],
      "execution_count": 3,
      "outputs": []
    },
    {
      "cell_type": "markdown",
      "metadata": {
        "id": "cBYLexn6ZjqF",
        "colab_type": "text"
      },
      "source": [
        "Decidimos também renomear algumas colunas e transformar os tipos de alguns dados com o intuito de obter uma melhor associação dos resultados."
      ]
    },
    {
      "cell_type": "code",
      "metadata": {
        "id": "i02lvlWgaM0t",
        "colab_type": "code",
        "colab": {}
      },
      "source": [
        "titanic = titanic.rename(index=str, columns={'Pclass':'Class_ticket', 'SibSp':'Brothers_spouses'\n",
        "                                              , 'Parch':'Parents_children'})"
      ],
      "execution_count": 4,
      "outputs": []
    },
    {
      "cell_type": "code",
      "metadata": {
        "id": "yMxhkZVwfFFI",
        "colab_type": "code",
        "colab": {}
      },
      "source": [
        "titanic['Sex'] = titanic['Sex'].replace('male', 0)\n",
        "titanic['Sex'] = titanic['Sex'].replace('female',1)"
      ],
      "execution_count": 5,
      "outputs": []
    },
    {
      "cell_type": "markdown",
      "metadata": {
        "id": "tU3OM7Mwf6Ri",
        "colab_type": "text"
      },
      "source": [
        "Embarked: Local de embarque (1 = Cherbourg, 2 = Queenstown, 3 = Southampton)"
      ]
    },
    {
      "cell_type": "code",
      "metadata": {
        "id": "yi2To8KCfqR4",
        "colab_type": "code",
        "colab": {}
      },
      "source": [
        "titanic['Embarked'] = titanic['Embarked'].replace('C', 1)\n",
        "titanic['Embarked'] = titanic['Embarked'].replace('Q', 2)\n",
        "titanic['Embarked'] = titanic['Embarked'].replace('S', 3)"
      ],
      "execution_count": 6,
      "outputs": []
    },
    {
      "cell_type": "code",
      "metadata": {
        "id": "tXVjXGmMghL9",
        "colab_type": "code",
        "colab": {
          "base_uri": "https://localhost:8080/",
          "height": 176
        },
        "outputId": "1f430e91-6b7f-447b-f2c0-b60e93458d69"
      },
      "source": [
        "# Verifica o tipo de dataset de cada atributo\n",
        "titanic.dtypes"
      ],
      "execution_count": 7,
      "outputs": [
        {
          "output_type": "execute_result",
          "data": {
            "text/plain": [
              "Class_ticket        float64\n",
              "Sex                 float64\n",
              "Age                 float64\n",
              "Brothers_spouses    float64\n",
              "Parents_children    float64\n",
              "Fare                float64\n",
              "Embarked            float64\n",
              "Survived            float64\n",
              "dtype: object"
            ]
          },
          "metadata": {
            "tags": []
          },
          "execution_count": 7
        }
      ]
    },
    {
      "cell_type": "markdown",
      "metadata": {
        "id": "u12v0UlOgohF",
        "colab_type": "text"
      },
      "source": [
        "Tipos dos dados e nomes alterados, vamos seguir explorando nossos dados."
      ]
    },
    {
      "cell_type": "code",
      "metadata": {
        "id": "xuTl2r7Eg2ML",
        "colab_type": "code",
        "colab": {
          "base_uri": "https://localhost:8080/",
          "height": 287
        },
        "outputId": "d05fb03b-7d4d-4a62-e90f-8a34997be086"
      },
      "source": [
        "# Faz um resumo estatístico do dataset (média, desvio padrão, mínimo, máximo e os quartis)\n",
        "titanic.describe()"
      ],
      "execution_count": 8,
      "outputs": [
        {
          "output_type": "execute_result",
          "data": {
            "text/html": [
              "<div>\n",
              "<style scoped>\n",
              "    .dataframe tbody tr th:only-of-type {\n",
              "        vertical-align: middle;\n",
              "    }\n",
              "\n",
              "    .dataframe tbody tr th {\n",
              "        vertical-align: top;\n",
              "    }\n",
              "\n",
              "    .dataframe thead th {\n",
              "        text-align: right;\n",
              "    }\n",
              "</style>\n",
              "<table border=\"1\" class=\"dataframe\">\n",
              "  <thead>\n",
              "    <tr style=\"text-align: right;\">\n",
              "      <th></th>\n",
              "      <th>Class_ticket</th>\n",
              "      <th>Sex</th>\n",
              "      <th>Age</th>\n",
              "      <th>Brothers_spouses</th>\n",
              "      <th>Parents_children</th>\n",
              "      <th>Fare</th>\n",
              "      <th>Embarked</th>\n",
              "      <th>Survived</th>\n",
              "    </tr>\n",
              "  </thead>\n",
              "  <tbody>\n",
              "    <tr>\n",
              "      <th>count</th>\n",
              "      <td>1234.000000</td>\n",
              "      <td>1234.000000</td>\n",
              "      <td>997.000000</td>\n",
              "      <td>1234.000000</td>\n",
              "      <td>1234.000000</td>\n",
              "      <td>1.233000e+03</td>\n",
              "      <td>1232.000000</td>\n",
              "      <td>1234.000000</td>\n",
              "    </tr>\n",
              "    <tr>\n",
              "      <th>mean</th>\n",
              "      <td>2.284441</td>\n",
              "      <td>0.340357</td>\n",
              "      <td>30.152457</td>\n",
              "      <td>0.504052</td>\n",
              "      <td>0.378444</td>\n",
              "      <td>1.353710e+05</td>\n",
              "      <td>2.503247</td>\n",
              "      <td>0.358185</td>\n",
              "    </tr>\n",
              "    <tr>\n",
              "      <th>std</th>\n",
              "      <td>0.842486</td>\n",
              "      <td>0.474021</td>\n",
              "      <td>14.435305</td>\n",
              "      <td>1.041117</td>\n",
              "      <td>0.868605</td>\n",
              "      <td>4.225239e+05</td>\n",
              "      <td>0.813167</td>\n",
              "      <td>0.479661</td>\n",
              "    </tr>\n",
              "    <tr>\n",
              "      <th>min</th>\n",
              "      <td>1.000000</td>\n",
              "      <td>0.000000</td>\n",
              "      <td>0.330000</td>\n",
              "      <td>0.000000</td>\n",
              "      <td>0.000000</td>\n",
              "      <td>0.000000e+00</td>\n",
              "      <td>1.000000</td>\n",
              "      <td>0.000000</td>\n",
              "    </tr>\n",
              "    <tr>\n",
              "      <th>25%</th>\n",
              "      <td>1.000000</td>\n",
              "      <td>0.000000</td>\n",
              "      <td>21.000000</td>\n",
              "      <td>0.000000</td>\n",
              "      <td>0.000000</td>\n",
              "      <td>1.450000e+01</td>\n",
              "      <td>2.000000</td>\n",
              "      <td>0.000000</td>\n",
              "    </tr>\n",
              "    <tr>\n",
              "      <th>50%</th>\n",
              "      <td>3.000000</td>\n",
              "      <td>0.000000</td>\n",
              "      <td>28.000000</td>\n",
              "      <td>0.000000</td>\n",
              "      <td>0.000000</td>\n",
              "      <td>7.920000e+01</td>\n",
              "      <td>3.000000</td>\n",
              "      <td>0.000000</td>\n",
              "    </tr>\n",
              "    <tr>\n",
              "      <th>75%</th>\n",
              "      <td>3.000000</td>\n",
              "      <td>1.000000</td>\n",
              "      <td>39.000000</td>\n",
              "      <td>1.000000</td>\n",
              "      <td>0.000000</td>\n",
              "      <td>7.895800e+04</td>\n",
              "      <td>3.000000</td>\n",
              "      <td>1.000000</td>\n",
              "    </tr>\n",
              "    <tr>\n",
              "      <th>max</th>\n",
              "      <td>3.000000</td>\n",
              "      <td>1.000000</td>\n",
              "      <td>80.000000</td>\n",
              "      <td>8.000000</td>\n",
              "      <td>9.000000</td>\n",
              "      <td>5.123292e+06</td>\n",
              "      <td>3.000000</td>\n",
              "      <td>1.000000</td>\n",
              "    </tr>\n",
              "  </tbody>\n",
              "</table>\n",
              "</div>"
            ],
            "text/plain": [
              "       Class_ticket          Sex  ...     Embarked     Survived\n",
              "count   1234.000000  1234.000000  ...  1232.000000  1234.000000\n",
              "mean       2.284441     0.340357  ...     2.503247     0.358185\n",
              "std        0.842486     0.474021  ...     0.813167     0.479661\n",
              "min        1.000000     0.000000  ...     1.000000     0.000000\n",
              "25%        1.000000     0.000000  ...     2.000000     0.000000\n",
              "50%        3.000000     0.000000  ...     3.000000     0.000000\n",
              "75%        3.000000     1.000000  ...     3.000000     1.000000\n",
              "max        3.000000     1.000000  ...     3.000000     1.000000\n",
              "\n",
              "[8 rows x 8 columns]"
            ]
          },
          "metadata": {
            "tags": []
          },
          "execution_count": 8
        }
      ]
    },
    {
      "cell_type": "markdown",
      "metadata": {
        "id": "jS9FE21xZ5Qv",
        "colab_type": "text"
      },
      "source": [
        "Informações Gerais e Estatístcas Descritivas: dimensões do dataset e  suas informações "
      ]
    },
    {
      "cell_type": "markdown",
      "metadata": {
        "id": "gbw_fN1UnRA2",
        "colab_type": "text"
      },
      "source": [
        "Vamos agora verificar se o dataset tem as classes balanceadas.\n",
        "\n",
        "Lembrando que:\n",
        "\n",
        "              0 - Não sobreviveu.\n",
        "              1 - Sobreviveu."
      ]
    },
    {
      "cell_type": "code",
      "metadata": {
        "id": "hhJXtv6siQOq",
        "colab_type": "code",
        "colab": {
          "base_uri": "https://localhost:8080/",
          "height": 87
        },
        "outputId": "f5d731eb-366e-43db-af05-e95ea1e38629"
      },
      "source": [
        "# Verifica a distribuição do objeto de estudo \n",
        "titanic.groupby('Survived').size()"
      ],
      "execution_count": 10,
      "outputs": [
        {
          "output_type": "execute_result",
          "data": {
            "text/plain": [
              "Survived\n",
              "0.0    792\n",
              "1.0    442\n",
              "dtype: int64"
            ]
          },
          "metadata": {
            "tags": []
          },
          "execution_count": 10
        }
      ]
    },
    {
      "cell_type": "markdown",
      "metadata": {
        "id": "swHZnF71mwH5",
        "colab_type": "text"
      },
      "source": [
        "Verificando a **simetria** (skew) da distribuição de dataset de cada atributo, assumindo que a distribuição é normal."
      ]
    },
    {
      "cell_type": "code",
      "metadata": {
        "id": "GUsQxdHqisvS",
        "colab_type": "code",
        "colab": {
          "base_uri": "https://localhost:8080/",
          "height": 176
        },
        "outputId": "a3a3f47a-dca4-4a80-d0ad-c1874fab0071"
      },
      "source": [
        "# Simetria de cada atributo\n",
        "titanic.skew()\n"
      ],
      "execution_count": null,
      "outputs": [
        {
          "output_type": "execute_result",
          "data": {
            "text/plain": [
              "Class_ticket       -0.598647\n",
              "Sex                 0.602189\n",
              "Age                 0.407675\n",
              "Brothers_spouses    3.844220\n",
              "Parents_children    3.669078\n",
              "Fare                4.367709\n",
              "Embarked           -1.125593\n",
              "Survived            0.506478\n",
              "dtype: float64"
            ]
          },
          "metadata": {
            "tags": []
          },
          "execution_count": 80
        }
      ]
    },
    {
      "cell_type": "markdown",
      "metadata": {
        "id": "3qe7dtZT-1Ez",
        "colab_type": "text"
      },
      "source": [
        "\n",
        "    - Maior que 0: a distribuição é assimétrica positiva (maior à esquerda e menor à direita).\n",
        "    - Menor que 0: a distribuição é assimétrica negativa (maior à direita e menor à esquerda).\n",
        "    - Igual a 0: a distribuição é simétrica.\n"
      ]
    },
    {
      "cell_type": "markdown",
      "metadata": {
        "id": "-fc2eZiclVR9",
        "colab_type": "text"
      },
      "source": [
        "###3.2. Visualizações Unimodais:"
      ]
    },
    {
      "cell_type": "code",
      "metadata": {
        "id": "dplHnQjLjz4r",
        "colab_type": "code",
        "colab": {}
      },
      "source": [
        "# Visualizações unimodais\n",
        "# Garantindo o estilo padrão do Matplotlib\n",
        "IPython_default = plt.rcParams.copy()\n",
        "plt.rcParams.update(IPython_default);"
      ],
      "execution_count": null,
      "outputs": []
    },
    {
      "cell_type": "code",
      "metadata": {
        "id": "Kgk522QYj-p5",
        "colab_type": "code",
        "colab": {
          "base_uri": "https://localhost:8080/",
          "height": 606
        },
        "outputId": "9571f77a-415d-4195-85ec-bc2bbf3c4736"
      },
      "source": [
        "# Histograma\n",
        "titanic.hist(figsize = (15,10))\n",
        "plt.show()"
      ],
      "execution_count": null,
      "outputs": [
        {
          "output_type": "display_data",
          "data": {
            "image/png": "[encoded data removed]",
            "text/plain": [
              "<Figure size 1080x720 with 9 Axes>"
            ]
          },
          "metadata": {
            "tags": [],
            "needs_background": "light"
          }
        }
      ]
    },
    {
      "cell_type": "markdown",
      "metadata": {
        "id": "vW1LYxxxqECg",
        "colab_type": "text"
      },
      "source": [
        "Analisando os gráficos podemos dizer que Brothers_spouses, Fare e Parents_children seguem uma distribuição exponencial, e a coluna Age segue uma distribuição aproximadamente normal."
      ]
    },
    {
      "cell_type": "code",
      "metadata": {
        "id": "J-EhbtBHkWdT",
        "colab_type": "code",
        "colab": {
          "base_uri": "https://localhost:8080/",
          "height": 592
        },
        "outputId": "865309fc-c67a-4f76-bbb7-9f2feea62171"
      },
      "source": [
        "# Density Plot\n",
        "titanic.plot(kind = 'density', subplots = True, layout = (3,3), sharex = False, figsize = (15,10))\n",
        "plt.show()"
      ],
      "execution_count": null,
      "outputs": [
        {
          "output_type": "display_data",
          "data": {
            "image/png": "[encoded data removed]",
            "text/plain": [
              "<Figure size 1080x720 with 9 Axes>"
            ]
          },
          "metadata": {
            "tags": [],
            "needs_background": "light"
          }
        }
      ]
    },
    {
      "cell_type": "code",
      "metadata": {
        "id": "QD5ulWKRkyWz",
        "colab_type": "code",
        "colab": {
          "base_uri": "https://localhost:8080/",
          "height": 592
        },
        "outputId": "e08e9d0b-1ef2-4c1a-8ac4-90084105f1a7"
      },
      "source": [
        "# Boxplot\n",
        "titanic.plot(kind = 'box', subplots = True, layout = (3,3), sharex = False, sharey = False, figsize = (15,10))\n",
        "plt.show()"
      ],
      "execution_count": null,
      "outputs": [
        {
          "output_type": "display_data",
          "data": {
            "image/png": "[encoded data removed]",
            "text/plain": [
              "<Figure size 1080x720 with 9 Axes>"
            ]
          },
          "metadata": {
            "tags": [],
            "needs_background": "light"
          }
        }
      ]
    },
    {
      "cell_type": "markdown",
      "metadata": {
        "id": "QA-ml3pPtU2I",
        "colab_type": "text"
      },
      "source": [
        "Através boxplot podemos a ter uma ideia da dispersão dos dataset e os possíveis outliers. Como por este exemplos as colunas Age, Brothers_spouses, Parentes_children e Fare."
      ]
    },
    {
      "cell_type": "markdown",
      "metadata": {
        "id": "U_2ccLMztc8f",
        "colab_type": "text"
      },
      "source": [
        "###3.3. Visualizações Multimodais:"
      ]
    },
    {
      "cell_type": "markdown",
      "metadata": {
        "id": "E-CAJNBfoB66",
        "colab_type": "text"
      },
      "source": [
        "Utilizando o método de Person vamos verificar a **covariância** entre as variáveis numéricas do dataset. "
      ]
    },
    {
      "cell_type": "code",
      "metadata": {
        "id": "J6dOdq-ooMHz",
        "colab_type": "code",
        "colab": {
          "base_uri": "https://localhost:8080/",
          "height": 287
        },
        "outputId": "1361f808-eb58-402d-849e-b8fed216ee40"
      },
      "source": [
        "titanic.corr(method = 'pearson')"
      ],
      "execution_count": null,
      "outputs": [
        {
          "output_type": "execute_result",
          "data": {
            "text/html": [
              "<div>\n",
              "<style scoped>\n",
              "    .dataframe tbody tr th:only-of-type {\n",
              "        vertical-align: middle;\n",
              "    }\n",
              "\n",
              "    .dataframe tbody tr th {\n",
              "        vertical-align: top;\n",
              "    }\n",
              "\n",
              "    .dataframe thead th {\n",
              "        text-align: right;\n",
              "    }\n",
              "</style>\n",
              "<table border=\"1\" class=\"dataframe\">\n",
              "  <thead>\n",
              "    <tr style=\"text-align: right;\">\n",
              "      <th></th>\n",
              "      <th>Class_ticket</th>\n",
              "      <th>Sex</th>\n",
              "      <th>Age</th>\n",
              "      <th>Brothers_spouses</th>\n",
              "      <th>Parents_children</th>\n",
              "      <th>Fare</th>\n",
              "      <th>Embarked</th>\n",
              "      <th>Survived</th>\n",
              "    </tr>\n",
              "  </thead>\n",
              "  <tbody>\n",
              "    <tr>\n",
              "      <th>Class_ticket</th>\n",
              "      <td>1.000000</td>\n",
              "      <td>-0.151227</td>\n",
              "      <td>-0.400829</td>\n",
              "      <td>0.060174</td>\n",
              "      <td>0.009050</td>\n",
              "      <td>-0.314189</td>\n",
              "      <td>0.202218</td>\n",
              "      <td>-0.290454</td>\n",
              "    </tr>\n",
              "    <tr>\n",
              "      <th>Sex</th>\n",
              "      <td>-0.151227</td>\n",
              "      <td>1.000000</td>\n",
              "      <td>-0.049293</td>\n",
              "      <td>0.108954</td>\n",
              "      <td>0.212841</td>\n",
              "      <td>0.122516</td>\n",
              "      <td>-0.089335</td>\n",
              "      <td>0.694006</td>\n",
              "    </tr>\n",
              "    <tr>\n",
              "      <th>Age</th>\n",
              "      <td>-0.400829</td>\n",
              "      <td>-0.049293</td>\n",
              "      <td>1.000000</td>\n",
              "      <td>-0.250895</td>\n",
              "      <td>-0.137207</td>\n",
              "      <td>0.137806</td>\n",
              "      <td>-0.087471</td>\n",
              "      <td>-0.040201</td>\n",
              "    </tr>\n",
              "    <tr>\n",
              "      <th>Brothers_spouses</th>\n",
              "      <td>0.060174</td>\n",
              "      <td>0.108954</td>\n",
              "      <td>-0.250895</td>\n",
              "      <td>1.000000</td>\n",
              "      <td>0.370940</td>\n",
              "      <td>-0.013601</td>\n",
              "      <td>0.066148</td>\n",
              "      <td>0.013332</td>\n",
              "    </tr>\n",
              "    <tr>\n",
              "      <th>Parents_children</th>\n",
              "      <td>0.009050</td>\n",
              "      <td>0.212841</td>\n",
              "      <td>-0.137207</td>\n",
              "      <td>0.370940</td>\n",
              "      <td>1.000000</td>\n",
              "      <td>0.038737</td>\n",
              "      <td>0.041358</td>\n",
              "      <td>0.112374</td>\n",
              "    </tr>\n",
              "    <tr>\n",
              "      <th>Fare</th>\n",
              "      <td>-0.314189</td>\n",
              "      <td>0.122516</td>\n",
              "      <td>0.137806</td>\n",
              "      <td>-0.013601</td>\n",
              "      <td>0.038737</td>\n",
              "      <td>1.000000</td>\n",
              "      <td>-0.251450</td>\n",
              "      <td>0.187098</td>\n",
              "    </tr>\n",
              "    <tr>\n",
              "      <th>Embarked</th>\n",
              "      <td>0.202218</td>\n",
              "      <td>-0.089335</td>\n",
              "      <td>-0.087471</td>\n",
              "      <td>0.066148</td>\n",
              "      <td>0.041358</td>\n",
              "      <td>-0.251450</td>\n",
              "      <td>1.000000</td>\n",
              "      <td>-0.121768</td>\n",
              "    </tr>\n",
              "    <tr>\n",
              "      <th>Survived</th>\n",
              "      <td>-0.290454</td>\n",
              "      <td>0.694006</td>\n",
              "      <td>-0.040201</td>\n",
              "      <td>0.013332</td>\n",
              "      <td>0.112374</td>\n",
              "      <td>0.187098</td>\n",
              "      <td>-0.121768</td>\n",
              "      <td>1.000000</td>\n",
              "    </tr>\n",
              "  </tbody>\n",
              "</table>\n",
              "</div>"
            ],
            "text/plain": [
              "                  Class_ticket       Sex  ...  Embarked  Survived\n",
              "Class_ticket          1.000000 -0.151227  ...  0.202218 -0.290454\n",
              "Sex                  -0.151227  1.000000  ... -0.089335  0.694006\n",
              "Age                  -0.400829 -0.049293  ... -0.087471 -0.040201\n",
              "Brothers_spouses      0.060174  0.108954  ...  0.066148  0.013332\n",
              "Parents_children      0.009050  0.212841  ...  0.041358  0.112374\n",
              "Fare                 -0.314189  0.122516  ... -0.251450  0.187098\n",
              "Embarked              0.202218 -0.089335  ...  1.000000 -0.121768\n",
              "Survived             -0.290454  0.694006  ... -0.121768  1.000000\n",
              "\n",
              "[8 rows x 8 columns]"
            ]
          },
          "metadata": {
            "tags": []
          },
          "execution_count": 19
        }
      ]
    },
    {
      "cell_type": "markdown",
      "metadata": {
        "id": "-GJFzBZ8oNBH",
        "colab_type": "text"
      },
      "source": [
        "    - Próximo de -1 : há uma correlação negativa entre as variáveis,\n",
        "    - Próximo de +1: há uma correlação positiva entre as variáveis.\n",
        "    - 0: não há correlação entre as variáveis."
      ]
    },
    {
      "cell_type": "code",
      "metadata": {
        "id": "rXgo4ApRmEXn",
        "colab_type": "code",
        "colab": {
          "base_uri": "https://localhost:8080/",
          "height": 346
        },
        "outputId": "04315a41-c553-4db9-9a27-b7b67d0902d1"
      },
      "source": [
        "# Visualizações multimodais\n",
        "# Matriz de Correlação com Matplotlib Seaborn\n",
        "sns.heatmap(titanic.corr(), annot=True, cmap='RdBu');"
      ],
      "execution_count": null,
      "outputs": [
        {
          "output_type": "display_data",
          "data": {
            "image/png": "[encoded data removed]",
            "text/plain": [
              "<Figure size 432x288 with 2 Axes>"
            ]
          },
          "metadata": {
            "tags": [],
            "needs_background": "light"
          }
        }
      ]
    },
    {
      "cell_type": "code",
      "metadata": {
        "id": "Dw6JRSCXmf-R",
        "colab_type": "code",
        "colab": {
          "base_uri": "https://localhost:8080/",
          "height": 1000
        },
        "outputId": "3e66cad4-7f5f-41ff-9023-95554cb5517f"
      },
      "source": [
        "# Scatter Plot com Seaborn - Variação 2\n",
        "\n",
        "sns.pairplot(titanic, hue = \"Survived\", height = 2.5);"
      ],
      "execution_count": null,
      "outputs": [
        {
          "output_type": "display_data",
          "data": {
            "image/png": "[encoded data removed]",
            "text/plain": [
              "<Figure size 1311.88x1260 with 56 Axes>"
            ]
          },
          "metadata": {
            "tags": [],
            "needs_background": "light"
          }
        }
      ]
    },
    {
      "cell_type": "markdown",
      "metadata": {
        "id": "1DQ38ni2voL7",
        "colab_type": "text"
      },
      "source": [
        "###3.4 Comparando os Atibutos com a nossa classe Survived"
      ]
    },
    {
      "cell_type": "code",
      "metadata": {
        "id": "ZEoTZHKhvmST",
        "colab_type": "code",
        "colab": {
          "base_uri": "https://localhost:8080/",
          "height": 87
        },
        "outputId": "df524916-152d-4746-8f5e-049bb422c061"
      },
      "source": [
        "titanic['Class_ticket'].value_counts()"
      ],
      "execution_count": 11,
      "outputs": [
        {
          "output_type": "execute_result",
          "data": {
            "text/plain": [
              "3.0    663\n",
              "1.0    312\n",
              "2.0    259\n",
              "Name: Class_ticket, dtype: int64"
            ]
          },
          "metadata": {
            "tags": []
          },
          "execution_count": 11
        }
      ]
    },
    {
      "cell_type": "code",
      "metadata": {
        "id": "02qt9ihYvj6K",
        "colab_type": "code",
        "colab": {
          "base_uri": "https://localhost:8080/",
          "height": 368
        },
        "outputId": "e84c5615-004e-4bc1-dff5-3b11dcd4de13"
      },
      "source": [
        "fig, ax = plt.subplots(1, 1, figsize=(7, 5), squeeze=False)\n",
        "\n",
        "colors = [ 'darkorange', 'skyblue']\n",
        "labels = ['Não Sobrevive', 'Sobreviveu']\n",
        "\n",
        "plt.hist([titanic[titanic.Survived == False]['Class_ticket'], \n",
        "          titanic[titanic.Survived == True]['Class_ticket']], \n",
        "          density=True, label=labels, color=colors)\n",
        "\n",
        "plt.title('Histograma Classe do Ticket') \n",
        "plt.xlabel('1ª Classe / 2ª Classe / 3ª Classe');\n",
        "plt.legend() \n",
        "plt.tight_layout() \n",
        "plt.show()"
      ],
      "execution_count": null,
      "outputs": [
        {
          "output_type": "display_data",
          "data": {
            "image/png": "[encoded data removed]",
            "text/plain": [
              "<Figure size 504x360 with 1 Axes>"
            ]
          },
          "metadata": {
            "tags": [],
            "needs_background": "light"
          }
        }
      ]
    },
    {
      "cell_type": "markdown",
      "metadata": {
        "id": "HLfo_sfiylfq",
        "colab_type": "text"
      },
      "source": [
        "Analisando a classe do ticket com o número de sobreviventes podemos dizer que o número de pessoas com a classe 3 era o dobro que da classe 1 e 2. Classe 1 e 2 tivemos mais sobreviventes, e classe 3 o número maior é o de não sobrevivente."
      ]
    },
    {
      "cell_type": "code",
      "metadata": {
        "id": "sevgJFHI4X4M",
        "colab_type": "code",
        "colab": {
          "base_uri": "https://localhost:8080/",
          "height": 70
        },
        "outputId": "4ddd32ca-780b-442e-b642-4cdf884dfcd2"
      },
      "source": [
        "titanic['Sex'].value_counts()"
      ],
      "execution_count": 12,
      "outputs": [
        {
          "output_type": "execute_result",
          "data": {
            "text/plain": [
              "0.0    814\n",
              "1.0    420\n",
              "Name: Sex, dtype: int64"
            ]
          },
          "metadata": {
            "tags": []
          },
          "execution_count": 12
        }
      ]
    },
    {
      "cell_type": "code",
      "metadata": {
        "id": "ldtmpNyjLNUI",
        "colab_type": "code",
        "colab": {
          "base_uri": "https://localhost:8080/",
          "height": 137
        },
        "outputId": "89e94da4-b738-4a0a-a1af-311c394a3330"
      },
      "source": [
        "titanic[['Sex', 'Survived']].groupby(['Sex']).mean()"
      ],
      "execution_count": 13,
      "outputs": [
        {
          "output_type": "execute_result",
          "data": {
            "text/html": [
              "<div>\n",
              "<style scoped>\n",
              "    .dataframe tbody tr th:only-of-type {\n",
              "        vertical-align: middle;\n",
              "    }\n",
              "\n",
              "    .dataframe tbody tr th {\n",
              "        vertical-align: top;\n",
              "    }\n",
              "\n",
              "    .dataframe thead th {\n",
              "        text-align: right;\n",
              "    }\n",
              "</style>\n",
              "<table border=\"1\" class=\"dataframe\">\n",
              "  <thead>\n",
              "    <tr style=\"text-align: right;\">\n",
              "      <th></th>\n",
              "      <th>Survived</th>\n",
              "    </tr>\n",
              "    <tr>\n",
              "      <th>Sex</th>\n",
              "      <th></th>\n",
              "    </tr>\n",
              "  </thead>\n",
              "  <tbody>\n",
              "    <tr>\n",
              "      <th>0.0</th>\n",
              "      <td>0.119165</td>\n",
              "    </tr>\n",
              "    <tr>\n",
              "      <th>1.0</th>\n",
              "      <td>0.821429</td>\n",
              "    </tr>\n",
              "  </tbody>\n",
              "</table>\n",
              "</div>"
            ],
            "text/plain": [
              "     Survived\n",
              "Sex          \n",
              "0.0  0.119165\n",
              "1.0  0.821429"
            ]
          },
          "metadata": {
            "tags": []
          },
          "execution_count": 13
        }
      ]
    },
    {
      "cell_type": "code",
      "metadata": {
        "id": "BOTkoyq2oD7n",
        "colab_type": "code",
        "colab": {
          "base_uri": "https://localhost:8080/",
          "height": 368
        },
        "outputId": "561faa93-f6cd-4b8e-e73d-22ece8a2d992"
      },
      "source": [
        "fig, ax = plt.subplots(1, 1, figsize=(7, 5), squeeze=False)\n",
        "\n",
        "colors = [ 'darkorange', 'skyblue']\n",
        "labels = ['Não Sobrevive', 'Sobreviveu']\n",
        "\n",
        "plt.hist([titanic[titanic.Survived == False]['Sex'], \n",
        "          titanic[titanic.Survived == True]['Sex']], \n",
        "          density=True, label=labels, color=colors)\n",
        "\n",
        "plt.hist([titanic[titanic.Survived == False]['Sex'], \n",
        "          titanic[titanic.Survived == True]['Sex']], \n",
        "          density=True, color=colors)\n",
        "\n",
        "\n",
        "plt.title('Histograma ') \n",
        "plt.xlabel('0 = Sexo Masculino / 1 = Sexo Feminino');\n",
        "plt.legend() \n",
        "plt.tight_layout() \n",
        "plt.show()"
      ],
      "execution_count": null,
      "outputs": [
        {
          "output_type": "display_data",
          "data": {
            "image/png": "[encoded data removed]",
            "text/plain": [
              "<Figure size 504x360 with 1 Axes>"
            ]
          },
          "metadata": {
            "tags": [],
            "needs_background": "light"
          }
        }
      ]
    },
    {
      "cell_type": "markdown",
      "metadata": {
        "id": "hF9C6bKaqg7b",
        "colab_type": "text"
      },
      "source": [
        "Interessante perceber que o número de homens embarcados é quase o dobro de mulheres mas a taxa de sobrevivência das mulheres é muito superior a dos homens."
      ]
    },
    {
      "cell_type": "code",
      "metadata": {
        "id": "3pwkANYk69KF",
        "colab_type": "code",
        "colab": {
          "base_uri": "https://localhost:8080/",
          "height": 368
        },
        "outputId": "d71b55b8-8ede-4e47-ab98-f9ffb63077ec"
      },
      "source": [
        "fig, ax = plt.subplots(1, 1, figsize=(10, 5), squeeze=False)\n",
        "\n",
        "colors = [ 'darkorange', 'skyblue']\n",
        "labels = ['Não Sobrevive', 'Sobreviveu']\n",
        "\n",
        "plt.hist([titanic[titanic.Survived == False]['Age'], \n",
        "          titanic[titanic.Survived == True]['Age']], \n",
        "          density=True, label=labels, color=colors)\n",
        "\n",
        "plt.title('Histograma Idade') \n",
        "plt.xlabel('Idade')\n",
        "plt.legend() \n",
        "plt.tight_layout() \n",
        "plt.show()"
      ],
      "execution_count": null,
      "outputs": [
        {
          "output_type": "display_data",
          "data": {
            "image/png": "[encoded data removed]",
            "text/plain": [
              "<Figure size 720x360 with 1 Axes>"
            ]
          },
          "metadata": {
            "tags": [],
            "needs_background": "light"
          }
        }
      ]
    },
    {
      "cell_type": "markdown",
      "metadata": {
        "id": "csZztQOc8he7",
        "colab_type": "text"
      },
      "source": [
        "Analisando o gráfico podemos ver que crianças abaixo de 10 anos tiveram uma alta porcentagem de sobreviventes e idosos acima de 60 anos tiveram um baixo número de sobreviventes."
      ]
    },
    {
      "cell_type": "code",
      "metadata": {
        "id": "AhLP4HGFL29A",
        "colab_type": "code",
        "colab": {
          "base_uri": "https://localhost:8080/",
          "height": 287
        },
        "outputId": "4cd6b66e-d7ac-43e2-87ab-537fe4cf2ace"
      },
      "source": [
        "titanic[['Brothers_spouses', 'Survived']].groupby(['Brothers_spouses']).mean()"
      ],
      "execution_count": 14,
      "outputs": [
        {
          "output_type": "execute_result",
          "data": {
            "text/html": [
              "<div>\n",
              "<style scoped>\n",
              "    .dataframe tbody tr th:only-of-type {\n",
              "        vertical-align: middle;\n",
              "    }\n",
              "\n",
              "    .dataframe tbody tr th {\n",
              "        vertical-align: top;\n",
              "    }\n",
              "\n",
              "    .dataframe thead th {\n",
              "        text-align: right;\n",
              "    }\n",
              "</style>\n",
              "<table border=\"1\" class=\"dataframe\">\n",
              "  <thead>\n",
              "    <tr style=\"text-align: right;\">\n",
              "      <th></th>\n",
              "      <th>Survived</th>\n",
              "    </tr>\n",
              "    <tr>\n",
              "      <th>Brothers_spouses</th>\n",
              "      <th></th>\n",
              "    </tr>\n",
              "  </thead>\n",
              "  <tbody>\n",
              "    <tr>\n",
              "      <th>0.0</th>\n",
              "      <td>0.312201</td>\n",
              "    </tr>\n",
              "    <tr>\n",
              "      <th>1.0</th>\n",
              "      <td>0.503289</td>\n",
              "    </tr>\n",
              "    <tr>\n",
              "      <th>2.0</th>\n",
              "      <td>0.447368</td>\n",
              "    </tr>\n",
              "    <tr>\n",
              "      <th>3.0</th>\n",
              "      <td>0.250000</td>\n",
              "    </tr>\n",
              "    <tr>\n",
              "      <th>4.0</th>\n",
              "      <td>0.181818</td>\n",
              "    </tr>\n",
              "    <tr>\n",
              "      <th>5.0</th>\n",
              "      <td>0.166667</td>\n",
              "    </tr>\n",
              "    <tr>\n",
              "      <th>8.0</th>\n",
              "      <td>0.125000</td>\n",
              "    </tr>\n",
              "  </tbody>\n",
              "</table>\n",
              "</div>"
            ],
            "text/plain": [
              "                  Survived\n",
              "Brothers_spouses          \n",
              "0.0               0.312201\n",
              "1.0               0.503289\n",
              "2.0               0.447368\n",
              "3.0               0.250000\n",
              "4.0               0.181818\n",
              "5.0               0.166667\n",
              "8.0               0.125000"
            ]
          },
          "metadata": {
            "tags": []
          },
          "execution_count": 14
        }
      ]
    },
    {
      "cell_type": "code",
      "metadata": {
        "id": "fC7rt1DK_5CE",
        "colab_type": "code",
        "colab": {
          "base_uri": "https://localhost:8080/",
          "height": 368
        },
        "outputId": "a224a165-027d-4d74-aa4f-823cf4e95e42"
      },
      "source": [
        "fig, ax = plt.subplots(1, 1, figsize=(10, 5), squeeze=False)\n",
        "\n",
        "colors = [ 'darkorange', 'skyblue']\n",
        "labels = ['Não Sobrevive', 'Sobreviveu']\n",
        "\n",
        "plt.hist([titanic[titanic.Survived == False]['Brothers_spouses'], \n",
        "          titanic[titanic.Survived == True]['Brothers_spouses']], \n",
        "          density=True, label=labels, color=colors)\n",
        "\n",
        "plt.title('Histograma Irmãos e Cônjugues') \n",
        "plt.xlabel('Irmãos e Cônjugues');\n",
        "plt.legend() \n",
        "plt.tight_layout() \n",
        "plt.show()"
      ],
      "execution_count": null,
      "outputs": [
        {
          "output_type": "display_data",
          "data": {
            "image/png": "[encoded data removed]",
            "text/plain": [
              "<Figure size 720x360 with 1 Axes>"
            ]
          },
          "metadata": {
            "tags": [],
            "needs_background": "light"
          }
        }
      ]
    },
    {
      "cell_type": "markdown",
      "metadata": {
        "id": "5LnQgwpvBBnU",
        "colab_type": "text"
      },
      "source": [
        "Por esse gráfico percebemos quem possuía um irmão ou cônjugue abordo tiveram uma porcentagem maior de sobreviventes que não sobreviventes."
      ]
    },
    {
      "cell_type": "code",
      "metadata": {
        "id": "jK5aBia0qJ3t",
        "colab_type": "code",
        "colab": {
          "base_uri": "https://localhost:8080/",
          "height": 368
        },
        "outputId": "7cad4ae4-67cb-463e-9db5-a1a05bc10507"
      },
      "source": [
        "fig, ax = plt.subplots(1, 1, figsize=(10, 5), squeeze=False)\n",
        "\n",
        "colors = [ 'darkorange', 'skyblue']\n",
        "labels = ['Não Sobrevive', 'Sobreviveu']\n",
        "\n",
        "plt.hist([titanic[titanic.Survived == False]['Parents_children'], \n",
        "          titanic[titanic.Survived == True]['Parents_children']], \n",
        "          density=True, label=labels, color=colors)\n",
        "\n",
        "plt.title('Histograma Pais e Filhos') \n",
        "plt.xlabel('Pais e Filhos');\n",
        "plt.legend() \n",
        "plt.tight_layout() \n",
        "plt.show()"
      ],
      "execution_count": null,
      "outputs": [
        {
          "output_type": "display_data",
          "data": {
            "image/png": "[encoded data removed]",
            "text/plain": [
              "<Figure size 720x360 with 1 Axes>"
            ]
          },
          "metadata": {
            "tags": [],
            "needs_background": "light"
          }
        }
      ]
    },
    {
      "cell_type": "markdown",
      "metadata": {
        "id": "QzRDWyLnqykw",
        "colab_type": "text"
      },
      "source": [
        "Neste gráfico podemos dizer que quem possuía familiares(pais e filhos) abordo tiveram uma porcentagem maior de sobreviventes que não sobreviventes."
      ]
    },
    {
      "cell_type": "code",
      "metadata": {
        "id": "r-wRYpURMPdc",
        "colab_type": "code",
        "colab": {
          "base_uri": "https://localhost:8080/",
          "height": 167
        },
        "outputId": "0d009d61-aef3-4837-a197-8c9fa51ab744"
      },
      "source": [
        "titanic[['Embarked', 'Survived']].groupby(['Embarked']).mean()"
      ],
      "execution_count": 16,
      "outputs": [
        {
          "output_type": "execute_result",
          "data": {
            "text/html": [
              "<div>\n",
              "<style scoped>\n",
              "    .dataframe tbody tr th:only-of-type {\n",
              "        vertical-align: middle;\n",
              "    }\n",
              "\n",
              "    .dataframe tbody tr th {\n",
              "        vertical-align: top;\n",
              "    }\n",
              "\n",
              "    .dataframe thead th {\n",
              "        text-align: right;\n",
              "    }\n",
              "</style>\n",
              "<table border=\"1\" class=\"dataframe\">\n",
              "  <thead>\n",
              "    <tr style=\"text-align: right;\">\n",
              "      <th></th>\n",
              "      <th>Survived</th>\n",
              "    </tr>\n",
              "    <tr>\n",
              "      <th>Embarked</th>\n",
              "      <th></th>\n",
              "    </tr>\n",
              "  </thead>\n",
              "  <tbody>\n",
              "    <tr>\n",
              "      <th>1.0</th>\n",
              "      <td>0.470356</td>\n",
              "    </tr>\n",
              "    <tr>\n",
              "      <th>2.0</th>\n",
              "      <td>0.367925</td>\n",
              "    </tr>\n",
              "    <tr>\n",
              "      <th>3.0</th>\n",
              "      <td>0.323024</td>\n",
              "    </tr>\n",
              "  </tbody>\n",
              "</table>\n",
              "</div>"
            ],
            "text/plain": [
              "          Survived\n",
              "Embarked          \n",
              "1.0       0.470356\n",
              "2.0       0.367925\n",
              "3.0       0.323024"
            ]
          },
          "metadata": {
            "tags": []
          },
          "execution_count": 16
        }
      ]
    },
    {
      "cell_type": "code",
      "metadata": {
        "id": "1u0kIKP5TX2I",
        "colab_type": "code",
        "colab": {
          "base_uri": "https://localhost:8080/",
          "height": 368
        },
        "outputId": "f24bada0-548c-4249-b07f-078d41561357"
      },
      "source": [
        "fig, ax = plt.subplots(1, 1, figsize=(10, 5), squeeze=False)\n",
        "\n",
        "colors = [ 'darkorange', 'skyblue']\n",
        "labels = ['Não Sobrevive', 'Sobreviveu']\n",
        "\n",
        "plt.hist([titanic['Embarked'][titanic.Survived == False], \n",
        "          titanic['Embarked'][titanic.Survived == True]], \n",
        "          density=True, label=labels, color=colors)\n",
        "\n",
        "plt.title('Histograma Embarque') \n",
        "plt.xlabel('1 = Cherbourg / 2 = Queenstown / 3 = Southampton');\n",
        "plt.legend() \n",
        "plt.tight_layout() \n",
        "plt.show()"
      ],
      "execution_count": null,
      "outputs": [
        {
          "output_type": "display_data",
          "data": {
            "image/png": "[encoded data removed]",
            "text/plain": [
              "<Figure size 720x360 with 1 Axes>"
            ]
          },
          "metadata": {
            "tags": [],
            "needs_background": "light"
          }
        }
      ]
    },
    {
      "cell_type": "markdown",
      "metadata": {
        "id": "jIxkDZaZWeNC",
        "colab_type": "text"
      },
      "source": [
        "Analisando esse gráfico vimos que grande parte dos tripulantes embarcaram pelo Embarque 3 na cidade de Southampton."
      ]
    },
    {
      "cell_type": "markdown",
      "metadata": {
        "id": "xTThW46J05Sl",
        "colab_type": "text"
      },
      "source": [
        "# **4.** **Pré-processamento de Dados**\n",
        "Nesse momento realizaremos ajustes no dataset."
      ]
    },
    {
      "cell_type": "code",
      "metadata": {
        "id": "W9XsGF013Gsg",
        "colab_type": "code",
        "colab": {}
      },
      "source": [
        "# configuração para não exibir os warnings\n",
        "import warnings\n",
        "warnings.filterwarnings(\"ignore\")\n",
        "\n",
        "# Importação de pacotes\n",
        "import pandas as pd\n",
        "import numpy as np\n",
        "import missingno as ms # para tratamento de missings\n",
        "from sklearn.preprocessing import MinMaxScaler # para normalização\n",
        "from sklearn.preprocessing import Normalizer # para normalização\n",
        "from sklearn.preprocessing import StandardScaler # para padronização"
      ],
      "execution_count": null,
      "outputs": []
    },
    {
      "cell_type": "code",
      "metadata": {
        "id": "QWCOjhvd1XPo",
        "colab_type": "code",
        "colab": {
          "base_uri": "https://localhost:8080/",
          "height": 176
        },
        "outputId": "9a34fc9f-2633-4b90-a325-992238e1c749"
      },
      "source": [
        "# a) Limpeza de Dados\n",
        "# Tratamento de Missings\n",
        "# verificando nulls no dataset\n",
        "titanic.isnull().sum().sort_values(ascending=False)"
      ],
      "execution_count": null,
      "outputs": [
        {
          "output_type": "execute_result",
          "data": {
            "text/plain": [
              "Age                 263\n",
              "Embarked              2\n",
              "Fare                  1\n",
              "Survived              0\n",
              "Parents_children      0\n",
              "Brothers_spouses      0\n",
              "Sex                   0\n",
              "Class_ticket          0\n",
              "dtype: int64"
            ]
          },
          "metadata": {
            "tags": []
          },
          "execution_count": 169
        }
      ]
    },
    {
      "cell_type": "code",
      "metadata": {
        "id": "UEh8HQ5ptC9Z",
        "colab_type": "code",
        "colab": {}
      },
      "source": [
        "# salvando um novo dataset para tratamento de missings\n",
        "\n",
        "# recuperando os nomes das colunas\n",
        "col = list(titanic.columns)\n",
        "\n",
        "# o novo dataset irá conter todas as colunas com exceção da última (classe)\n",
        "atributos = titanic[col[0:-1]]\n",
        "\n",
        "# exibindo visualização matricial da nulidade do dataset\n",
        "ms.matrix(atributos)"
      ],
      "execution_count": null,
      "outputs": []
    },
    {
      "cell_type": "markdown",
      "metadata": {
        "id": "frwwSeqksEXK",
        "colab_type": "text"
      },
      "source": [
        "Decidimos colocar a média de cada atributo nos seus respectivos valores faltantes(NaN)."
      ]
    },
    {
      "cell_type": "code",
      "metadata": {
        "id": "mq9YXJSbryCI",
        "colab_type": "code",
        "colab": {
          "base_uri": "https://localhost:8080/",
          "height": 544
        },
        "outputId": "5d5fe8be-5890-4e8c-d288-df1d006a2920"
      },
      "source": [
        "# substituindo os NaN de 'Age', 'Fare'e 'mass' pela mediana da coluna\n",
        "atributos['Age'].fillna(atributos['Age'].median(), inplace=True)\n",
        "atributos['Fare'].fillna(atributos['Fare'].median(), inplace=True)\n",
        "atributos['Embarked'].fillna(atributos['Embarked'].max(), inplace=True)\n",
        "\n",
        "# substituindo os NaN de 'Embarked' por 3 = S, maior numeros de embarques\n",
        "#atributos['Embarked'].fillna('3', inplace=True)\n",
        "\n",
        "# exibindo visualização matricial da nulidade do dataset\n",
        "ms.matrix(atributos)"
      ],
      "execution_count": null,
      "outputs": [
        {
          "output_type": "execute_result",
          "data": {
            "text/plain": [
              "<matplotlib.axes._subplots.AxesSubplot at 0x7fe2e6ad4550>"
            ]
          },
          "metadata": {
            "tags": []
          },
          "execution_count": 171
        },
        {
          "output_type": "display_data",
          "data": {
            "image/png": "[encoded data removed]",
            "text/plain": [
              "<Figure size 1800x720 with 2 Axes>"
            ]
          },
          "metadata": {
            "tags": [],
            "needs_background": "light"
          }
        }
      ]
    },
    {
      "cell_type": "markdown",
      "metadata": {
        "id": "LvOBz_rbuHF1",
        "colab_type": "text"
      },
      "source": [
        "Agora iremos criar nosso novo dataset com os dados tratados para uso na criação do modelo."
      ]
    },
    {
      "cell_type": "code",
      "metadata": {
        "id": "HKrVsrMWuEqn",
        "colab_type": "code",
        "colab": {
          "base_uri": "https://localhost:8080/",
          "height": 347
        },
        "outputId": "70610ba8-0507-4a6e-a460-40931ab4cd7c"
      },
      "source": [
        "# Guardando o novo dataset para testes futuros\n",
        "dftitanic = atributos\n",
        "\n",
        "# incluindo a coluna 'class' no novo dataset\n",
        "dftitanic['Survived'] = titanic['Survived']\n",
        "\n",
        "# exibindo as primeiras linhas\n",
        "dftitanic.head(10)"
      ],
      "execution_count": null,
      "outputs": [
        {
          "output_type": "execute_result",
          "data": {
            "text/html": [
              "<div>\n",
              "<style scoped>\n",
              "    .dataframe tbody tr th:only-of-type {\n",
              "        vertical-align: middle;\n",
              "    }\n",
              "\n",
              "    .dataframe tbody tr th {\n",
              "        vertical-align: top;\n",
              "    }\n",
              "\n",
              "    .dataframe thead th {\n",
              "        text-align: right;\n",
              "    }\n",
              "</style>\n",
              "<table border=\"1\" class=\"dataframe\">\n",
              "  <thead>\n",
              "    <tr style=\"text-align: right;\">\n",
              "      <th></th>\n",
              "      <th>Class_ticket</th>\n",
              "      <th>Sex</th>\n",
              "      <th>Age</th>\n",
              "      <th>Brothers_spouses</th>\n",
              "      <th>Parents_children</th>\n",
              "      <th>Fare</th>\n",
              "      <th>Embarked</th>\n",
              "      <th>Survived</th>\n",
              "    </tr>\n",
              "  </thead>\n",
              "  <tbody>\n",
              "    <tr>\n",
              "      <th>0</th>\n",
              "      <td>3</td>\n",
              "      <td>0</td>\n",
              "      <td>22.0</td>\n",
              "      <td>1</td>\n",
              "      <td>0</td>\n",
              "      <td>7.2500</td>\n",
              "      <td>3.0</td>\n",
              "      <td>0</td>\n",
              "    </tr>\n",
              "    <tr>\n",
              "      <th>1</th>\n",
              "      <td>1</td>\n",
              "      <td>1</td>\n",
              "      <td>38.0</td>\n",
              "      <td>1</td>\n",
              "      <td>0</td>\n",
              "      <td>71.2833</td>\n",
              "      <td>1.0</td>\n",
              "      <td>1</td>\n",
              "    </tr>\n",
              "    <tr>\n",
              "      <th>2</th>\n",
              "      <td>3</td>\n",
              "      <td>1</td>\n",
              "      <td>26.0</td>\n",
              "      <td>0</td>\n",
              "      <td>0</td>\n",
              "      <td>7.9250</td>\n",
              "      <td>3.0</td>\n",
              "      <td>1</td>\n",
              "    </tr>\n",
              "    <tr>\n",
              "      <th>3</th>\n",
              "      <td>1</td>\n",
              "      <td>1</td>\n",
              "      <td>35.0</td>\n",
              "      <td>1</td>\n",
              "      <td>0</td>\n",
              "      <td>53.1000</td>\n",
              "      <td>3.0</td>\n",
              "      <td>1</td>\n",
              "    </tr>\n",
              "    <tr>\n",
              "      <th>4</th>\n",
              "      <td>3</td>\n",
              "      <td>0</td>\n",
              "      <td>35.0</td>\n",
              "      <td>0</td>\n",
              "      <td>0</td>\n",
              "      <td>8.0500</td>\n",
              "      <td>3.0</td>\n",
              "      <td>0</td>\n",
              "    </tr>\n",
              "    <tr>\n",
              "      <th>5</th>\n",
              "      <td>3</td>\n",
              "      <td>0</td>\n",
              "      <td>28.0</td>\n",
              "      <td>0</td>\n",
              "      <td>0</td>\n",
              "      <td>8.4583</td>\n",
              "      <td>2.0</td>\n",
              "      <td>0</td>\n",
              "    </tr>\n",
              "    <tr>\n",
              "      <th>6</th>\n",
              "      <td>1</td>\n",
              "      <td>0</td>\n",
              "      <td>54.0</td>\n",
              "      <td>0</td>\n",
              "      <td>0</td>\n",
              "      <td>51.8625</td>\n",
              "      <td>3.0</td>\n",
              "      <td>0</td>\n",
              "    </tr>\n",
              "    <tr>\n",
              "      <th>7</th>\n",
              "      <td>3</td>\n",
              "      <td>0</td>\n",
              "      <td>2.0</td>\n",
              "      <td>3</td>\n",
              "      <td>1</td>\n",
              "      <td>21.0750</td>\n",
              "      <td>3.0</td>\n",
              "      <td>0</td>\n",
              "    </tr>\n",
              "    <tr>\n",
              "      <th>8</th>\n",
              "      <td>3</td>\n",
              "      <td>1</td>\n",
              "      <td>27.0</td>\n",
              "      <td>0</td>\n",
              "      <td>2</td>\n",
              "      <td>11.1333</td>\n",
              "      <td>3.0</td>\n",
              "      <td>1</td>\n",
              "    </tr>\n",
              "    <tr>\n",
              "      <th>9</th>\n",
              "      <td>2</td>\n",
              "      <td>1</td>\n",
              "      <td>14.0</td>\n",
              "      <td>1</td>\n",
              "      <td>0</td>\n",
              "      <td>30.0708</td>\n",
              "      <td>1.0</td>\n",
              "      <td>1</td>\n",
              "    </tr>\n",
              "  </tbody>\n",
              "</table>\n",
              "</div>"
            ],
            "text/plain": [
              "   Class_ticket  Sex   Age  ...     Fare  Embarked  Survived\n",
              "0             3    0  22.0  ...   7.2500       3.0         0\n",
              "1             1    1  38.0  ...  71.2833       1.0         1\n",
              "2             3    1  26.0  ...   7.9250       3.0         1\n",
              "3             1    1  35.0  ...  53.1000       3.0         1\n",
              "4             3    0  35.0  ...   8.0500       3.0         0\n",
              "5             3    0  28.0  ...   8.4583       2.0         0\n",
              "6             1    0  54.0  ...  51.8625       3.0         0\n",
              "7             3    0   2.0  ...  21.0750       3.0         0\n",
              "8             3    1  27.0  ...  11.1333       3.0         1\n",
              "9             2    1  14.0  ...  30.0708       1.0         1\n",
              "\n",
              "[10 rows x 8 columns]"
            ]
          },
          "metadata": {
            "tags": []
          },
          "execution_count": 172
        }
      ]
    },
    {
      "cell_type": "markdown",
      "metadata": {
        "id": "ggLGEZteyAN6",
        "colab_type": "text"
      },
      "source": [
        "Gerando um csv com meu dataset tratado."
      ]
    },
    {
      "cell_type": "code",
      "metadata": {
        "id": "mOfxi0yivhI6",
        "colab_type": "code",
        "colab": {}
      },
      "source": [
        "dftitanic.to_csv('./dftitanic.csv', index=False)"
      ],
      "execution_count": null,
      "outputs": []
    },
    {
      "cell_type": "code",
      "metadata": {
        "id": "c8kd3Gfe5CIG",
        "colab_type": "code",
        "colab": {
          "base_uri": "https://localhost:8080/",
          "height": 176
        },
        "outputId": "44749978-69a6-4843-a850-647506c3f4fd"
      },
      "source": [
        "# verificando novamente nulls no dataset\n",
        "dftitanic.isnull().sum()"
      ],
      "execution_count": null,
      "outputs": [
        {
          "output_type": "execute_result",
          "data": {
            "text/plain": [
              "Class_ticket        0\n",
              "Sex                 0\n",
              "Age                 0\n",
              "Brothers_spouses    0\n",
              "Parents_children    0\n",
              "Fare                0\n",
              "Embarked            0\n",
              "Survived            0\n",
              "dtype: int64"
            ]
          },
          "metadata": {
            "tags": []
          },
          "execution_count": 173
        }
      ]
    },
    {
      "cell_type": "markdown",
      "metadata": {
        "id": "ngTGuM1K0vq_",
        "colab_type": "text"
      },
      "source": [
        "###4.1 Nesta etapa iremos dividir o dataset em base de treino e base de teste."
      ]
    },
    {
      "cell_type": "code",
      "metadata": {
        "id": "VvF_jtGH1WUQ",
        "colab_type": "code",
        "colab": {}
      },
      "source": [
        "# Separação em conjuntos de treino e teste\n",
        "array = dftitanic.values\n",
        "X = array[:,0:7]\n",
        "Y = array[:,7]\n",
        "\n",
        "test_size = 0.20\n",
        "seed = 7\n",
        "\n",
        "X_train, X_test, Y_train, Y_test = train_test_split(X, Y, test_size=test_size, random_state=seed)"
      ],
      "execution_count": null,
      "outputs": []
    },
    {
      "cell_type": "markdown",
      "metadata": {
        "id": "e9YV8fvy3vNN",
        "colab_type": "text"
      },
      "source": [
        "# **5. Modelos de Classificação**"
      ]
    },
    {
      "cell_type": "markdown",
      "metadata": {
        "id": "oM15Qyz54F0s",
        "colab_type": "text"
      },
      "source": [
        "### 5.1. Criação e avaliação de modelos: linha base"
      ]
    },
    {
      "cell_type": "code",
      "metadata": {
        "id": "UyM2TUPU2G5v",
        "colab_type": "code",
        "colab": {}
      },
      "source": [
        "# scoring = 'roc_auc'\n",
        "# Parâmetros\n",
        "num_folds = 10\n",
        "scoring = 'accuracy'"
      ],
      "execution_count": null,
      "outputs": []
    },
    {
      "cell_type": "code",
      "metadata": {
        "id": "ee9J73re7sZw",
        "colab_type": "code",
        "colab": {}
      },
      "source": [
        "# Criação dos modelos\n",
        "models = []\n",
        "models.append(('LR', LogisticRegression(solver='liblinear'))) \n",
        "models.append(('KNN', KNeighborsClassifier())) \n",
        "models.append(('CART', DecisionTreeClassifier())) \n",
        "models.append(('NB', GaussianNB()))\n",
        "models.append(('SVM', SVC(gamma='auto')))"
      ],
      "execution_count": null,
      "outputs": []
    },
    {
      "cell_type": "markdown",
      "metadata": {
        "id": "vQuO0h4V78Ez",
        "colab_type": "text"
      },
      "source": [
        "Agora vamos comparar os resultados modelos criados, treinando-os com os dados do conjunto de treino e utilizando a técnica de validação cruzada. Para cada um dos modelos criados, executaremos a validação cruzada e, em seguida, exibiremos a acurácia média e o desvio padrão de cada um."
      ]
    },
    {
      "cell_type": "code",
      "metadata": {
        "id": "uu4JMYlU7swc",
        "colab_type": "code",
        "colab": {
          "base_uri": "https://localhost:8080/",
          "height": 105
        },
        "outputId": "9b16916b-8c46-4e5d-fc53-290915388e80"
      },
      "source": [
        "np.random.seed(7) # definindo uma semente global\n",
        "\n",
        "# Avaliação dos modelos\n",
        "results = []\n",
        "names = []\n",
        "for name, model in models:\n",
        "  kfold = KFold(n_splits=num_folds)\n",
        "  cv_results = cross_val_score(model, X_train, Y_train, cv=kfold, scoring=scoring)\n",
        "  results.append(cv_results)\n",
        "  names.append(name)\n",
        "  msg = \"%s: %f (%f)\" % (name, cv_results.mean(), cv_results.std())\n",
        "  print(msg)"
      ],
      "execution_count": null,
      "outputs": [
        {
          "output_type": "stream",
          "text": [
            "LR: 0.856786 (0.044522)\n",
            "KNN: 0.703956 (0.040770)\n",
            "CART: 0.812784 (0.033221)\n",
            "NB: 0.843388 (0.042774)\n",
            "SVM: 0.705806 (0.037862)\n"
          ],
          "name": "stdout"
        }
      ]
    },
    {
      "cell_type": "markdown",
      "metadata": {
        "id": "wxzqATSU_lO-",
        "colab_type": "text"
      },
      "source": [
        "Estes resultados sugerem que tanto a Regressão Logística quanto o Naive Bayes têm potencial de serem bons modelos, porém, temos também o CART(Árvore de Decisão) com uma acurácia bem próxima. Vamos olhar o gráfico e analisar melhor."
      ]
    },
    {
      "cell_type": "code",
      "metadata": {
        "id": "Q8l13Ehe7tGy",
        "colab_type": "code",
        "colab": {
          "base_uri": "https://localhost:8080/",
          "height": 294
        },
        "outputId": "6bc5ccc8-8156-41a4-873c-b3c8591cc80a"
      },
      "source": [
        "# Comparação dos modelos\n",
        "fig = plt.figure() \n",
        "fig.suptitle('Comparação dos Modelos') \n",
        "ax = fig.add_subplot(111) \n",
        "plt.boxplot(results) \n",
        "ax.set_xticklabels(names) \n",
        "plt.show()"
      ],
      "execution_count": null,
      "outputs": [
        {
          "output_type": "display_data",
          "data": {
            "image/png": "[encoded data removed]",
            "text/plain": [
              "<Figure size 432x288 with 1 Axes>"
            ]
          },
          "metadata": {
            "tags": [],
            "needs_background": "light"
          }
        }
      ]
    },
    {
      "cell_type": "markdown",
      "metadata": {
        "id": "ex0-XQN8AV4-",
        "colab_type": "text"
      },
      "source": [
        "Bem de acordo com os números de acurácia, percebemos que o KNN e o SVM não tiveram um bom desempenho. Pelo gráfico poderiamos dizer que o NB possui uma distribuição melhor comparado com os outros modelos."
      ]
    },
    {
      "cell_type": "markdown",
      "metadata": {
        "id": "YQz6p-i2BDnu",
        "colab_type": "text"
      },
      "source": [
        "###5.2. Criação e Avaliação de Modelos: Dados Padronizados\n",
        "\n",
        "Iremos padronizar os dados utilizando uma cópia do dataset. O foco será reduzir os dados brutos que possam impactar negativamente a habilidade de alguns modelos.\n",
        "\n",
        "Evitando o \"vazamento de dados\" na transformação, usaremos o pipelines.\n"
      ]
    },
    {
      "cell_type": "code",
      "metadata": {
        "id": "hmQbiYQdBRDW",
        "colab_type": "code",
        "colab": {
          "base_uri": "https://localhost:8080/",
          "height": 105
        },
        "outputId": "c9525b9b-47a9-458f-ecfd-04cb0be6e41f"
      },
      "source": [
        "np.random.seed(7) # definindo uma semente global\n",
        "\n",
        "# Padronização do dataset\n",
        "pipelines = []\n",
        "pipelines.append(('ScaledLR', Pipeline([('Scaler', StandardScaler()),('LR', LogisticRegression(solver='liblinear'))]))) \n",
        "pipelines.append(('ScaledKNN', Pipeline([('Scaler', StandardScaler()),('KNN', KNeighborsClassifier())])))\n",
        "pipelines.append(('ScaledCART', Pipeline([('Scaler', StandardScaler()),('CART', DecisionTreeClassifier())])))\n",
        "pipelines.append(('ScaledNB', Pipeline([('Scaler', StandardScaler()),('NB', GaussianNB())])))\n",
        "pipelines.append(('ScaledSVM', Pipeline([('Scaler', StandardScaler()),('SVM', SVC(gamma='auto'))])))\n",
        "results = []\n",
        "names = []\n",
        "for name, model in pipelines:\n",
        "  kfold = KFold(n_splits=num_folds)\n",
        "  cv_results = cross_val_score(model, X_train, Y_train, cv=kfold, scoring=scoring)\n",
        "  results.append(cv_results)\n",
        "  names.append(name)\n",
        "  msg = \"%s: %f (%f)\" % (name, cv_results.mean(), cv_results.std())\n",
        "  print(msg)"
      ],
      "execution_count": null,
      "outputs": [
        {
          "output_type": "stream",
          "text": [
            "ScaledLR: 0.855833 (0.044403)\n",
            "ScaledKNN: 0.842436 (0.036800)\n",
            "ScaledCART: 0.809908 (0.031953)\n",
            "ScaledNB: 0.843388 (0.042774)\n",
            "ScaledSVM: 0.867280 (0.042121)\n"
          ],
          "name": "stdout"
        }
      ]
    },
    {
      "cell_type": "markdown",
      "metadata": {
        "id": "rvFkBpwfCZ_Z",
        "colab_type": "text"
      },
      "source": [
        "Resultados sem padronização:\n",
        "\n",
        "  - LR: 0.856786 (0.044522)\n",
        "  - KNN: 0.703956 (0.040770)\n",
        "  - CART: 0.812784 (0.033221)\n",
        "  - NB: 0.843388 (0.042774)\n",
        "  - SVM: 0.705806 (0.037862)"
      ]
    },
    {
      "cell_type": "markdown",
      "metadata": {
        "id": "AtCXNX1oDIC2",
        "colab_type": "text"
      },
      "source": [
        "Analisando os resultados, vemos que o KNN e o SVM tiveram uma acurácia muito maior que antes da padronização. Já o LR, CART e NB não ocorreram muitas modificações nos resultados.\n",
        "\n",
        "Vamos analisar graficamente."
      ]
    },
    {
      "cell_type": "code",
      "metadata": {
        "id": "2Ctr7cKD7s9b",
        "colab_type": "code",
        "colab": {
          "base_uri": "https://localhost:8080/",
          "height": 294
        },
        "outputId": "e2c0e053-9bfc-4a96-e8a6-22c35d9f1ae9"
      },
      "source": [
        "# Comparação dos modelos com dados padronizados\n",
        "fig = plt.figure()\n",
        "fig.suptitle('Comparação dos modelos com dados padronizados') \n",
        "ax = fig.add_subplot(111) \n",
        "plt.boxplot(results) \n",
        "ax.set_xticklabels(names)\n",
        "plt.show()"
      ],
      "execution_count": null,
      "outputs": [
        {
          "output_type": "display_data",
          "data": {
            "image/png": "[encoded data removed]",
            "text/plain": [
              "<Figure size 432x288 with 1 Axes>"
            ]
          },
          "metadata": {
            "tags": [],
            "needs_background": "light"
          }
        }
      ]
    },
    {
      "cell_type": "markdown",
      "metadata": {
        "id": "T1w-zzkMEAC4",
        "colab_type": "text"
      },
      "source": [
        "Esta gráfico demonstrou melhores representações do modelos do que o gráfico sem os dados padronizados. "
      ]
    },
    {
      "cell_type": "markdown",
      "metadata": {
        "id": "ErUZD1iXEx1r",
        "colab_type": "text"
      },
      "source": [
        "###5.3 Criação e Avaliação de Modelos: Normalizados"
      ]
    },
    {
      "cell_type": "code",
      "metadata": {
        "id": "aSWD6Ct87stX",
        "colab_type": "code",
        "colab": {
          "base_uri": "https://localhost:8080/",
          "height": 105
        },
        "outputId": "489e7af1-e807-4a71-e69c-822ce2a95f1d"
      },
      "source": [
        "np.random.seed(7) # definindo uma semente global\n",
        "\n",
        "# Normalização do dataset\n",
        "pipelines = []\n",
        "pipelines.append(('ScaledMinMaxLR', Pipeline([('Scaler', MinMaxScaler()),('LR', LogisticRegression(solver='liblinear'))]))) \n",
        "pipelines.append(('ScaledMinMaxKNN', Pipeline([('Scaler', MinMaxScaler()),('KNN', KNeighborsClassifier())])))\n",
        "pipelines.append(('ScaledMinMaxCART', Pipeline([('Scaler', MinMaxScaler()),('CART', DecisionTreeClassifier())])))\n",
        "pipelines.append(('ScaledMinMaxNB', Pipeline([('Scaler', MinMaxScaler()),('NB', GaussianNB())])))\n",
        "pipelines.append(('ScaledMinMaxSVM', Pipeline([('Scaler', MinMaxScaler()),('SVM', SVC(gamma='auto'))])))\n",
        "results = []\n",
        "names = []\n",
        "for name, model in pipelines:\n",
        "  kfold = KFold(n_splits=num_folds)\n",
        "  cv_results = cross_val_score(model, X_train, Y_train, cv=kfold, scoring=scoring)\n",
        "  results.append(cv_results)\n",
        "  names.append(name)\n",
        "  msg = \"%s: %f (%f)\" % (name, cv_results.mean(), cv_results.std())\n",
        "  print(msg)"
      ],
      "execution_count": null,
      "outputs": [
        {
          "output_type": "stream",
          "text": [
            "ScaledMinMaxLR: 0.856795 (0.043496)\n",
            "ScaledMinMaxKNN: 0.850073 (0.038485)\n",
            "ScaledMinMaxCART: 0.813736 (0.029491)\n",
            "ScaledMinMaxNB: 0.843388 (0.042774)\n",
            "ScaledMinMaxSVM: 0.853938 (0.043691)\n"
          ],
          "name": "stdout"
        }
      ]
    },
    {
      "cell_type": "markdown",
      "metadata": {
        "id": "qanBjDepFPtY",
        "colab_type": "text"
      },
      "source": [
        "Resultados linha base:\n",
        "\n",
        "  - LR: 0.856786 (0.044522)\n",
        "  - KNN: 0.703956 (0.040770)\n",
        "  - CART: 0.812784 (0.033221)\n",
        "  - NB: 0.843388 (0.042774)\n",
        "  - SVM: 0.705806 (0.037862)\n",
        "---\n",
        "Resultados dados padronizados:\n",
        "\n",
        "   - ScaledLR: 0.855833 (0.044403)\n",
        "   - ScaledKNN: 0.842436 (0.036800)\n",
        "   - ScaledCART: 0.809908 (0.031953)\n",
        "   - ScaledNB: 0.843388 (0.042774)\n",
        "   - ScaledSVM: 0.867280 (0.042121)\n",
        "---\n",
        "Resultados dados normalizados:\n",
        "\n",
        "   - ScaledMinMaxLR: 0.856795 (0.043496)\n",
        "   - ScaledMinMaxKNN: 0.850073 (0.038485)\n",
        "   - ScaledMinMaxCART: 0.813736 (0.029491)\n",
        "   - ScaledMinMaxNB: 0.843388 (0.042774)\n",
        "   - ScaledMinMaxSVM: 0.853938 (0.043691)\n",
        "\n",
        "\n"
      ]
    },
    {
      "cell_type": "markdown",
      "metadata": {
        "id": "IDGNf6pSGpp3",
        "colab_type": "text"
      },
      "source": [
        "Vericando os resultados na linha base, diríamos que o KNN e SVM não seriam um bom modelo porém após as transformações ambos se equipararam aos nossos melhores resultados. Com os valores bem próximos, seguiremos então ajustando todos os modelos exceto o CART que não apresentou um bom resultado comparado aos demais."
      ]
    },
    {
      "cell_type": "markdown",
      "metadata": {
        "id": "fNtTMSWhGkG0",
        "colab_type": "text"
      },
      "source": [
        "###5.4. Ajuste dos Modelos"
      ]
    },
    {
      "cell_type": "markdown",
      "metadata": {
        "id": "PB7K3u7IKci7",
        "colab_type": "text"
      },
      "source": [
        "Iremos começar com o KNN que apresentou um bom resultado após a normalização e padronização."
      ]
    },
    {
      "cell_type": "code",
      "metadata": {
        "id": "rxn-JHcAFBzb",
        "colab_type": "code",
        "colab": {
          "base_uri": "https://localhost:8080/",
          "height": 621
        },
        "outputId": "39f14338-fac8-45f9-ff46-d862d0b4e5eb"
      },
      "source": [
        "np.random.seed(7) # definindo uma semente global\n",
        "\n",
        "# Tuning do KNN\n",
        "\n",
        "scaler = StandardScaler().fit(X_train)\n",
        "rescaledX = scaler.transform(X_train)\n",
        "\n",
        "k = [1,3,5,7,9,11,13,15,17,19,21]\n",
        "distancias = [\"euclidean\", \"manhattan\", \"minkowski\"]\n",
        "param_grid = dict(n_neighbors=k, metric=distancias)\n",
        "\n",
        "model = KNeighborsClassifier()\n",
        "\n",
        "kfold = KFold(n_splits=num_folds)\n",
        "\n",
        "grid = GridSearchCV(estimator=model, param_grid=param_grid, scoring=scoring, cv=kfold)\n",
        "grid_result = grid.fit(rescaledX, Y_train)\n",
        "print(\"Melhor: %f usando %s\" % (grid_result.best_score_, grid_result.best_params_)) \n",
        "\n",
        "means = grid_result.cv_results_['mean_test_score']\n",
        "stds = grid_result.cv_results_['std_test_score']\n",
        "params = grid_result.cv_results_['params']\n",
        "for mean, stdev, param in zip(means, stds, params):\n",
        "    print(\"%f (%f): %r\" % (mean, stdev, param))"
      ],
      "execution_count": null,
      "outputs": [
        {
          "output_type": "stream",
          "text": [
            "Melhor: 0.869185 usando {'metric': 'euclidean', 'n_neighbors': 13}\n",
            "0.783168 (0.041497): {'metric': 'euclidean', 'n_neighbors': 1}\n",
            "0.840522 (0.037825): {'metric': 'euclidean', 'n_neighbors': 3}\n",
            "0.843388 (0.036302): {'metric': 'euclidean', 'n_neighbors': 5}\n",
            "0.849148 (0.041729): {'metric': 'euclidean', 'n_neighbors': 7}\n",
            "0.859643 (0.042459): {'metric': 'euclidean', 'n_neighbors': 9}\n",
            "0.866328 (0.045193): {'metric': 'euclidean', 'n_neighbors': 11}\n",
            "0.869185 (0.041851): {'metric': 'euclidean', 'n_neighbors': 13}\n",
            "0.865357 (0.046297): {'metric': 'euclidean', 'n_neighbors': 15}\n",
            "0.859634 (0.046012): {'metric': 'euclidean', 'n_neighbors': 17}\n",
            "0.859643 (0.045604): {'metric': 'euclidean', 'n_neighbors': 19}\n",
            "0.856777 (0.048333): {'metric': 'euclidean', 'n_neighbors': 21}\n",
            "0.786035 (0.037584): {'metric': 'manhattan', 'n_neighbors': 1}\n",
            "0.847198 (0.034820): {'metric': 'manhattan', 'n_neighbors': 3}\n",
            "0.846282 (0.039221): {'metric': 'manhattan', 'n_neighbors': 5}\n",
            "0.858690 (0.044938): {'metric': 'manhattan', 'n_neighbors': 7}\n",
            "0.867271 (0.044071): {'metric': 'manhattan', 'n_neighbors': 9}\n",
            "0.868214 (0.042915): {'metric': 'manhattan', 'n_neighbors': 11}\n",
            "0.868214 (0.041844): {'metric': 'manhattan', 'n_neighbors': 13}\n",
            "0.867244 (0.043315): {'metric': 'manhattan', 'n_neighbors': 15}\n",
            "0.869176 (0.041401): {'metric': 'manhattan', 'n_neighbors': 17}\n",
            "0.864414 (0.042444): {'metric': 'manhattan', 'n_neighbors': 19}\n",
            "0.860595 (0.044433): {'metric': 'manhattan', 'n_neighbors': 21}\n",
            "0.783168 (0.041497): {'metric': 'minkowski', 'n_neighbors': 1}\n",
            "0.840522 (0.037825): {'metric': 'minkowski', 'n_neighbors': 3}\n",
            "0.843388 (0.036302): {'metric': 'minkowski', 'n_neighbors': 5}\n",
            "0.849148 (0.041729): {'metric': 'minkowski', 'n_neighbors': 7}\n",
            "0.859643 (0.042459): {'metric': 'minkowski', 'n_neighbors': 9}\n",
            "0.866328 (0.045193): {'metric': 'minkowski', 'n_neighbors': 11}\n",
            "0.869185 (0.041851): {'metric': 'minkowski', 'n_neighbors': 13}\n",
            "0.865357 (0.046297): {'metric': 'minkowski', 'n_neighbors': 15}\n",
            "0.859634 (0.046012): {'metric': 'minkowski', 'n_neighbors': 17}\n",
            "0.859643 (0.045604): {'metric': 'minkowski', 'n_neighbors': 19}\n",
            "0.856777 (0.048333): {'metric': 'minkowski', 'n_neighbors': 21}\n"
          ],
          "name": "stdout"
        }
      ]
    },
    {
      "cell_type": "markdown",
      "metadata": {
        "id": "rAdnIFyyNsc4",
        "colab_type": "text"
      },
      "source": [
        "Tentamos com com dados padronizados e normalizados, o melhor resultado foi o padronizado com acurácia 0.869185 usando {'metric': 'euclidean', 'n_neighbors': 13}."
      ]
    },
    {
      "cell_type": "markdown",
      "metadata": {
        "id": "JfTUV8p1NzHJ",
        "colab_type": "text"
      },
      "source": [
        "Agora vamos testar o SVM pelos mesmo critérios do KNN."
      ]
    },
    {
      "cell_type": "code",
      "metadata": {
        "id": "-nwMMT4bM_Lj",
        "colab_type": "code",
        "colab": {
          "base_uri": "https://localhost:8080/",
          "height": 745
        },
        "outputId": "acc30c32-a796-4b59-bc5f-9f43400469b9"
      },
      "source": [
        "np.random.seed(7) # definindo uma semente global\n",
        "\n",
        "# Tuning do SVM\n",
        "\n",
        "scaler = StandardScaler().fit(X_train)\n",
        "rescaledX = scaler.transform(X_train)\n",
        "\n",
        "c_values = [0.1, 0.3, 0.5, 0.7, 0.9, 1.0, 1.3, 1.5, 1.7, 2.0]\n",
        "kernel_values = ['linear', 'poly', 'rbf', 'sigmoid']\n",
        "param_grid = dict(C=c_values, kernel=kernel_values)\n",
        "\n",
        "model = SVC(gamma='auto')\n",
        "\n",
        "kfold = KFold(n_splits=num_folds)\n",
        "\n",
        "grid = GridSearchCV(estimator=model, param_grid=param_grid, scoring=scoring, cv=kfold)\n",
        "grid_result = grid.fit(rescaledX, Y_train)\n",
        "print(\"Melhor: %f usando %s\" % (grid_result.best_score_, grid_result.best_params_)) \n",
        "\n",
        "means = grid_result.cv_results_['mean_test_score']\n",
        "stds = grid_result.cv_results_['std_test_score']\n",
        "params = grid_result.cv_results_['params']\n",
        "for mean, stdev, param in zip(means, stds, params):\n",
        "  print(\"%f (%f): %r\" % (mean, stdev, param))"
      ],
      "execution_count": null,
      "outputs": [
        {
          "output_type": "stream",
          "text": [
            "Melhor: 0.867271 usando {'C': 0.9, 'kernel': 'rbf'}\n",
            "0.853938 (0.043691): {'C': 0.1, 'kernel': 'linear'}\n",
            "0.774634 (0.033166): {'C': 0.1, 'kernel': 'poly'}\n",
            "0.861548 (0.041010): {'C': 0.1, 'kernel': 'rbf'}\n",
            "0.829093 (0.041583): {'C': 0.1, 'kernel': 'sigmoid'}\n",
            "0.853938 (0.043691): {'C': 0.3, 'kernel': 'linear'}\n",
            "0.859615 (0.042164): {'C': 0.3, 'kernel': 'poly'}\n",
            "0.864396 (0.038185): {'C': 0.3, 'kernel': 'rbf'}\n",
            "0.757454 (0.041670): {'C': 0.3, 'kernel': 'sigmoid'}\n",
            "0.853938 (0.043691): {'C': 0.5, 'kernel': 'linear'}\n",
            "0.861548 (0.040552): {'C': 0.5, 'kernel': 'poly'}\n",
            "0.863443 (0.041251): {'C': 0.5, 'kernel': 'rbf'}\n",
            "0.745998 (0.038700): {'C': 0.5, 'kernel': 'sigmoid'}\n",
            "0.853938 (0.043691): {'C': 0.7, 'kernel': 'linear'}\n",
            "0.860577 (0.042995): {'C': 0.7, 'kernel': 'poly'}\n",
            "0.867262 (0.044129): {'C': 0.7, 'kernel': 'rbf'}\n",
            "0.747912 (0.041631): {'C': 0.7, 'kernel': 'sigmoid'}\n",
            "0.853938 (0.043691): {'C': 0.9, 'kernel': 'linear'}\n",
            "0.860586 (0.041431): {'C': 0.9, 'kernel': 'poly'}\n",
            "0.867271 (0.043240): {'C': 0.9, 'kernel': 'rbf'}\n",
            "0.744103 (0.042563): {'C': 0.9, 'kernel': 'sigmoid'}\n",
            "0.853938 (0.043691): {'C': 1.0, 'kernel': 'linear'}\n",
            "0.861548 (0.042303): {'C': 1.0, 'kernel': 'poly'}\n",
            "0.866319 (0.043556): {'C': 1.0, 'kernel': 'rbf'}\n",
            "0.743141 (0.041862): {'C': 1.0, 'kernel': 'sigmoid'}\n",
            "0.853938 (0.043691): {'C': 1.3, 'kernel': 'linear'}\n",
            "0.861557 (0.043361): {'C': 1.3, 'kernel': 'poly'}\n",
            "0.866319 (0.043556): {'C': 1.3, 'kernel': 'rbf'}\n",
            "0.744093 (0.048286): {'C': 1.3, 'kernel': 'sigmoid'}\n",
            "0.853938 (0.043691): {'C': 1.5, 'kernel': 'linear'}\n",
            "0.863462 (0.043543): {'C': 1.5, 'kernel': 'poly'}\n",
            "0.865366 (0.039208): {'C': 1.5, 'kernel': 'rbf'}\n",
            "0.744112 (0.044826): {'C': 1.5, 'kernel': 'sigmoid'}\n",
            "0.853938 (0.043691): {'C': 1.7, 'kernel': 'linear'}\n",
            "0.862509 (0.043567): {'C': 1.7, 'kernel': 'poly'}\n",
            "0.866319 (0.037695): {'C': 1.7, 'kernel': 'rbf'}\n",
            "0.744103 (0.044893): {'C': 1.7, 'kernel': 'sigmoid'}\n",
            "0.853938 (0.043691): {'C': 2.0, 'kernel': 'linear'}\n",
            "0.863462 (0.043543): {'C': 2.0, 'kernel': 'poly'}\n",
            "0.867271 (0.041088): {'C': 2.0, 'kernel': 'rbf'}\n",
            "0.744103 (0.042775): {'C': 2.0, 'kernel': 'sigmoid'}\n"
          ],
          "name": "stdout"
        }
      ]
    },
    {
      "cell_type": "markdown",
      "metadata": {
        "id": "ZxQv7JmWN8BW",
        "colab_type": "text"
      },
      "source": [
        "Tentamos com com dados padronizados e normalizados, o melhor resultado foi o padronizado com acurácia 0.867271 usando {'C': 0.9, 'kernel': 'rbf'}."
      ]
    },
    {
      "cell_type": "markdown",
      "metadata": {
        "id": "FlYqYYSaaHzP",
        "colab_type": "text"
      },
      "source": [
        "# **6. Métodos Ensembles**"
      ]
    },
    {
      "cell_type": "markdown",
      "metadata": {
        "id": "wYGMsPMX5xuS",
        "colab_type": "text"
      },
      "source": [
        "Avaliaremos quatro modelos diferentes, sendo dois métodos de Boosting e dois de Bagging:\n",
        "\n",
        "* Métodos de Boosting: AdaBoost (AB) e Gradient Boosting (GBM).\n",
        "* Métodos de Bagging: Random Forests (RF) e Extra Trees (ET)."
      ]
    },
    {
      "cell_type": "code",
      "metadata": {
        "id": "ZkNeao5a7VUl",
        "colab_type": "code",
        "colab": {
          "base_uri": "https://localhost:8080/",
          "height": 87
        },
        "outputId": "d56e8034-52ab-4511-c09c-fd8cc4092173"
      },
      "source": [
        "np.random.seed(7) # definindo uma semente global\n",
        "\n",
        "# Ensembles\n",
        "\n",
        "ensembles = []\n",
        "ensembles.append(('AB', AdaBoostClassifier())) \n",
        "ensembles.append(('GBM', GradientBoostingClassifier())) \n",
        "ensembles.append(('RF', RandomForestClassifier(n_estimators=10))) \n",
        "ensembles.append(('ET', ExtraTreesClassifier(n_estimators=10))) \n",
        "results = []\n",
        "names = []\n",
        "for name, model in ensembles:\n",
        "  kfold = KFold(n_splits=num_folds)\n",
        "  cv_results = cross_val_score(model, X_train, Y_train, cv=kfold, scoring=scoring)\n",
        "  results.append(cv_results)\n",
        "  names.append(name)\n",
        "  msg = \"%s: %f (%f)\" % (name, cv_results.mean(), cv_results.std())\n",
        "  print(msg)"
      ],
      "execution_count": null,
      "outputs": [
        {
          "output_type": "stream",
          "text": [
            "AB: 0.855833 (0.040692)\n",
            "GBM: 0.864386 (0.044232)\n",
            "RF: 0.826181 (0.039426)\n",
            "ET: 0.822326 (0.040407)\n"
          ],
          "name": "stdout"
        }
      ]
    },
    {
      "cell_type": "code",
      "metadata": {
        "id": "9dUXGbcq7a6F",
        "colab_type": "code",
        "colab": {
          "base_uri": "https://localhost:8080/",
          "height": 294
        },
        "outputId": "ab5dba88-41b0-47e3-ceb1-faa6402eb9cd"
      },
      "source": [
        "# Comparação de modelos\n",
        "fig = plt.figure()\n",
        "fig.suptitle('Comparação de modelos Ensemble') \n",
        "ax = fig.add_subplot(111) \n",
        "plt.boxplot(results) \n",
        "ax.set_xticklabels(names)\n",
        "plt.show()"
      ],
      "execution_count": null,
      "outputs": [
        {
          "output_type": "display_data",
          "data": {
            "image/png": "[encoded data removed]",
            "text/plain": [
              "<Figure size 432x288 with 1 Axes>"
            ]
          },
          "metadata": {
            "tags": [],
            "needs_background": "light"
          }
        }
      ]
    },
    {
      "cell_type": "code",
      "metadata": {
        "id": "dB_mL1gt7m4p",
        "colab_type": "code",
        "colab": {
          "base_uri": "https://localhost:8080/",
          "height": 87
        },
        "outputId": "a19d1c36-432a-479d-84b4-97ec4033cc40"
      },
      "source": [
        "np.random.seed(7) # definindo uma semente global\n",
        "\n",
        "# Padronização do dataset\n",
        "pipelines = []\n",
        "pipelines.append(('ScaledAB', Pipeline([('Scaler', StandardScaler()),('AB', AdaBoostClassifier())]))) \n",
        "pipelines.append(('ScaledGBM', Pipeline([('Scaler', StandardScaler()),('GBM', GradientBoostingClassifier())])))\n",
        "pipelines.append(('ScaledRF', Pipeline([('Scaler', StandardScaler()),('RF', RandomForestClassifier(n_estimators=10))])))\n",
        "pipelines.append(('ScaledET', Pipeline([('Scaler', StandardScaler()),('ET', ExtraTreesClassifier(n_estimators=10))])))\n",
        "results = []\n",
        "names = []\n",
        "for name, model in pipelines:\n",
        "  kfold = KFold(n_splits=num_folds)\n",
        "  cv_results = cross_val_score(model, X_train, Y_train, cv=kfold, scoring=scoring)\n",
        "  results.append(cv_results)\n",
        "  names.append(name)\n",
        "  msg = \"%s: %f (%f)\" % (name, cv_results.mean(), cv_results.std())\n",
        "  print(msg)"
      ],
      "execution_count": null,
      "outputs": [
        {
          "output_type": "stream",
          "text": [
            "ScaledAB: 0.855833 (0.040692)\n",
            "ScaledGBM: 0.863425 (0.042602)\n",
            "ScaledRF: 0.829048 (0.036927)\n",
            "ScaledET: 0.822326 (0.040407)\n"
          ],
          "name": "stdout"
        }
      ]
    },
    {
      "cell_type": "code",
      "metadata": {
        "id": "HHiUsNTU7teT",
        "colab_type": "code",
        "colab": {
          "base_uri": "https://localhost:8080/",
          "height": 87
        },
        "outputId": "8f3256f8-c398-4cd5-fdc3-883aac240717"
      },
      "source": [
        "\n",
        "np.random.seed(7) # definindo uma semente global\n",
        "\n",
        "# Normalização do dataset\n",
        "pipelines = []\n",
        "pipelines.append(('MinMaxScaledAB', Pipeline([('Scaler', MinMaxScaler()),('AB', AdaBoostClassifier())]))) \n",
        "pipelines.append(('MinMaxScaledGBM', Pipeline([('Scaler', MinMaxScaler()),('GBM', GradientBoostingClassifier())])))\n",
        "pipelines.append(('MinMaxScaledRF', Pipeline([('Scaler', MinMaxScaler()),('RF', RandomForestClassifier(n_estimators=10))])))\n",
        "pipelines.append(('MinMaxScaledET', Pipeline([('Scaler', MinMaxScaler()),('ET', ExtraTreesClassifier(n_estimators=10))])))\n",
        "results = []\n",
        "names = []\n",
        "for name, model in pipelines:\n",
        "  kfold = KFold(n_splits=num_folds)\n",
        "  cv_results = cross_val_score(model, X_train, Y_train, cv=kfold, scoring=scoring)\n",
        "  results.append(cv_results)\n",
        "  names.append(name)\n",
        "  msg = \"%s: %f (%f)\" % (name, cv_results.mean(), cv_results.std())\n",
        "  print(msg)"
      ],
      "execution_count": null,
      "outputs": [
        {
          "output_type": "stream",
          "text": [
            "MinMaxScaledAB: 0.855833 (0.040692)\n",
            "MinMaxScaledGBM: 0.864386 (0.044232)\n",
            "MinMaxScaledRF: 0.828086 (0.038800)\n",
            "MinMaxScaledET: 0.822326 (0.040407)\n"
          ],
          "name": "stdout"
        }
      ]
    },
    {
      "cell_type": "markdown",
      "metadata": {
        "id": "-l2aeUT02VV4",
        "colab_type": "text"
      },
      "source": [
        "# **7.** **Finalização do Modelo**"
      ]
    },
    {
      "cell_type": "markdown",
      "metadata": {
        "id": "mtWcVq6f9x6C",
        "colab_type": "text"
      },
      "source": [
        "Verificamos que o KNeighborsClassifier(KNN) com os dados normalizados e com os seguintes parâmrtros {'metric': 'euclidean', 'n_neighbors': 13} mostrou a melhor acurácia para o problema 0.869185. \n",
        "Iremos então treinar este modelo e em seguida fazer as predições com a base de teste."
      ]
    },
    {
      "cell_type": "code",
      "metadata": {
        "id": "SOD55xhN_OGG",
        "colab_type": "code",
        "colab": {
          "base_uri": "https://localhost:8080/",
          "height": 230
        },
        "outputId": "54b4d65f-e267-4d87-b7c9-0bb6ed70cb98"
      },
      "source": [
        "# Preparação do modelo\n",
        "scaler = StandardScaler().fit(X_train)\n",
        "rescaledX = scaler.transform(X_train)\n",
        "model = KNeighborsClassifier(metric='euclidean', n_neighbors=13)\n",
        "model.fit(rescaledX, Y_train)\n",
        "\n",
        "\n",
        "\n",
        "# Estimativa da acurácia no conjunto de teste\n",
        "rescaledTestX = scaler.transform(X_test)\n",
        "predictions = model.predict(rescaledTestX)\n",
        "print(accuracy_score(Y_test, predictions))\n",
        "print(confusion_matrix(Y_test, predictions))\n",
        "print(classification_report(Y_test, predictions))"
      ],
      "execution_count": null,
      "outputs": [
        {
          "output_type": "stream",
          "text": [
            "0.8625954198473282\n",
            "[[146  14]\n",
            " [ 22  80]]\n",
            "              precision    recall  f1-score   support\n",
            "\n",
            "         0.0       0.87      0.91      0.89       160\n",
            "         1.0       0.85      0.78      0.82       102\n",
            "\n",
            "    accuracy                           0.86       262\n",
            "   macro avg       0.86      0.85      0.85       262\n",
            "weighted avg       0.86      0.86      0.86       262\n",
            "\n"
          ],
          "name": "stdout"
        }
      ]
    },
    {
      "cell_type": "markdown",
      "metadata": {
        "id": "qsaILqGOALkq",
        "colab_type": "text"
      },
      "source": [
        "Através do conjunto teste, verificamos uma acurácia de 86,22% em dados não vistos. Um pouco pior que no nosso dataset treino, mas já esperado, obtivemos uma diferença de apenas 0,0066.\n"
      ]
    },
    {
      "cell_type": "markdown",
      "metadata": {
        "id": "4OrttVWHCZy9",
        "colab_type": "text"
      },
      "source": [
        "Agora iremos treiná-lo com todo o dataset."
      ]
    },
    {
      "cell_type": "code",
      "metadata": {
        "id": "_vtl3YdM2aSx",
        "colab_type": "code",
        "colab": {
          "base_uri": "https://localhost:8080/",
          "height": 70
        },
        "outputId": "704fdde8-686e-492c-f5e8-bcfa20a76238"
      },
      "source": [
        "# Preparação do modelo o dataset completo\n",
        "\n",
        "scaler = StandardScaler().fit(X)\n",
        "rescaledX = scaler.transform(X)\n",
        "model = KNeighborsClassifier(metric='euclidean', n_neighbors=13)\n",
        "model.fit(rescaledX, Y)\n"
      ],
      "execution_count": null,
      "outputs": [
        {
          "output_type": "execute_result",
          "data": {
            "text/plain": [
              "KNeighborsClassifier(algorithm='auto', leaf_size=30, metric='euclidean',\n",
              "                     metric_params=None, n_jobs=None, n_neighbors=13, p=2,\n",
              "                     weights='uniform')"
            ]
          },
          "metadata": {
            "tags": []
          },
          "execution_count": 208
        }
      ]
    },
    {
      "cell_type": "markdown",
      "metadata": {
        "id": "3_GTLtZTDA3R",
        "colab_type": "text"
      },
      "source": [
        "# **8.** **Aplicando o Modelo em Dados Não Vistos**"
      ]
    },
    {
      "cell_type": "markdown",
      "metadata": {
        "id": "Wvl8GYWwICf6",
        "colab_type": "text"
      },
      "source": [
        "Iremos incluir 5 novas instâncias sem saber a classe de saída. Em seguida aplicaremos no nosso modelo treinado para estimar as classes."
      ]
    },
    {
      "cell_type": "code",
      "metadata": {
        "id": "zIWqOJKIDYT_",
        "colab_type": "code",
        "colab": {
          "base_uri": "https://localhost:8080/",
          "height": 70
        },
        "outputId": "1f5829d4-f5ee-4eb2-d6b9-b54297c2ac41"
      },
      "source": [
        "dftitanic.columns"
      ],
      "execution_count": null,
      "outputs": [
        {
          "output_type": "execute_result",
          "data": {
            "text/plain": [
              "Index(['Class_ticket', 'Sex', 'Age', 'Brothers_spouses', 'Parents_children',\n",
              "       'Fare', 'Embarked', 'Survived'],\n",
              "      dtype='object')"
            ]
          },
          "metadata": {
            "tags": []
          },
          "execution_count": 209
        }
      ]
    },
    {
      "cell_type": "code",
      "metadata": {
        "id": "EVMsDbpx2aIB",
        "colab_type": "code",
        "colab": {
          "base_uri": "https://localhost:8080/",
          "height": 105
        },
        "outputId": "cd7d0aeb-6e18-46b3-bac3-a7b0e333aa2c"
      },
      "source": [
        "data = { 'Class_ticket': [1,2,3,1,2], \n",
        "              'Sex':[0,1,0,1,0], \n",
        "              'Age':[19, 35, 60, 23, 3], \n",
        "              'Brothers_spouses':[0,0,1,1,1], \n",
        "              'Parents_children':[0,1,0,0,1],\n",
        "              'Fare':[7.9250,8.0500,51.8625, 53.1000,8.4583], \n",
        "              'Embarked': [1,3,3,2,1], \n",
        "            }\n",
        "\n",
        "atributos = ['Class_ticket', 'Sex', 'Age', 'Brothers_spouses', 'Parents_children','Fare', 'Embarked']\n",
        "entrada = pd.DataFrame(data, columns=atributos)\n",
        "\n",
        "array_entrada = entrada.values\n",
        "X_entrada = array_entrada[:,0:7].astype(float)\n",
        "print(X_entrada)"
      ],
      "execution_count": null,
      "outputs": [
        {
          "output_type": "stream",
          "text": [
            "[[ 1.      0.     19.      0.      0.      7.925   1.    ]\n",
            " [ 2.      1.     35.      0.      1.      8.05    3.    ]\n",
            " [ 3.      0.     60.      1.      0.     51.8625  3.    ]\n",
            " [ 1.      1.     23.      1.      0.     53.1     2.    ]\n",
            " [ 2.      0.      3.      1.      1.      8.4583  1.    ]]\n"
          ],
          "name": "stdout"
        }
      ]
    },
    {
      "cell_type": "code",
      "metadata": {
        "id": "B1KnX7CkKmAH",
        "colab_type": "code",
        "colab": {
          "base_uri": "https://localhost:8080/",
          "height": 194
        },
        "outputId": "e74af62f-a117-48c5-a685-4cfd9679b37b"
      },
      "source": [
        "# Padronização nos dados de entrada\n",
        "rescaledEntradaX = scaler.transform(X_entrada)\n",
        "print(rescaledEntradaX)"
      ],
      "execution_count": null,
      "outputs": [
        {
          "output_type": "stream",
          "text": [
            "[[-1.54609786 -0.74349692 -0.81418086 -0.47908676 -0.4449995  -0.49024046\n",
            "  -1.83492621]\n",
            " [-0.35209072  1.34499549  0.42609939 -0.47908676  0.71076309 -0.48782368\n",
            "   0.62227932]\n",
            " [ 0.84191642 -0.74349692  2.36403729  0.48128777 -0.4449995   0.35925739\n",
            "   0.62227932]\n",
            " [-1.54609786  1.34499549 -0.50411079  0.48128777 -0.4449995   0.3831835\n",
            "  -0.60632344]\n",
            " [-0.35209072 -0.74349692 -2.05446111  0.48128777  0.71076309 -0.47992951\n",
            "  -1.83492621]]\n"
          ],
          "name": "stdout"
        }
      ]
    },
    {
      "cell_type": "code",
      "metadata": {
        "id": "6qct-j12LUQA",
        "colab_type": "code",
        "colab": {
          "base_uri": "https://localhost:8080/",
          "height": 34
        },
        "outputId": "bc9342cc-6b03-4174-a02d-bf637f73abeb"
      },
      "source": [
        "# Estimativa de classes dos dados de entrada\n",
        "saidas = model.predict(rescaledEntradaX)\n",
        "print(saidas)"
      ],
      "execution_count": null,
      "outputs": [
        {
          "output_type": "stream",
          "text": [
            "[0. 1. 0. 1. 0.]\n"
          ],
          "name": "stdout"
        }
      ]
    },
    {
      "cell_type": "markdown",
      "metadata": {
        "id": "HFyHYFhdaVb_",
        "colab_type": "text"
      },
      "source": [
        "# **8.** **Análise de Atributos**"
      ]
    },
    {
      "cell_type": "code",
      "metadata": {
        "id": "7Y5R9xCSazsE",
        "colab_type": "code",
        "colab": {}
      },
      "source": [
        "# Imports\n",
        "import pandas as pd\n",
        "import numpy as np\n",
        "from numpy import set_printoptions\n",
        "import matplotlib.pyplot as plt\n",
        "from sklearn.model_selection import train_test_split\n",
        "from sklearn.model_selection import KFold\n",
        "from sklearn.model_selection import cross_val_score\n",
        "from sklearn.linear_model import LogisticRegression\n",
        "from sklearn.feature_selection import SelectKBest\n",
        "from sklearn.feature_selection import chi2\n",
        "from sklearn.feature_selection import RFE\n",
        "from sklearn.ensemble import ExtraTreesClassifier"
      ],
      "execution_count": null,
      "outputs": []
    },
    {
      "cell_type": "code",
      "metadata": {
        "id": "U4v7ND4zm_oW",
        "colab_type": "code",
        "colab": {
          "base_uri": "https://localhost:8080/",
          "height": 197
        },
        "outputId": "4cb4541e-8c6e-406b-c1aa-57967661deb5"
      },
      "source": [
        "dftitanic.head()"
      ],
      "execution_count": null,
      "outputs": [
        {
          "output_type": "execute_result",
          "data": {
            "text/html": [
              "<div>\n",
              "<style scoped>\n",
              "    .dataframe tbody tr th:only-of-type {\n",
              "        vertical-align: middle;\n",
              "    }\n",
              "\n",
              "    .dataframe tbody tr th {\n",
              "        vertical-align: top;\n",
              "    }\n",
              "\n",
              "    .dataframe thead th {\n",
              "        text-align: right;\n",
              "    }\n",
              "</style>\n",
              "<table border=\"1\" class=\"dataframe\">\n",
              "  <thead>\n",
              "    <tr style=\"text-align: right;\">\n",
              "      <th></th>\n",
              "      <th>Class_ticket</th>\n",
              "      <th>Sex</th>\n",
              "      <th>Age</th>\n",
              "      <th>Brothers_spouses</th>\n",
              "      <th>Parents_children</th>\n",
              "      <th>Fare</th>\n",
              "      <th>Embarked</th>\n",
              "      <th>Survived</th>\n",
              "    </tr>\n",
              "  </thead>\n",
              "  <tbody>\n",
              "    <tr>\n",
              "      <th>0</th>\n",
              "      <td>3</td>\n",
              "      <td>0</td>\n",
              "      <td>22.0</td>\n",
              "      <td>1</td>\n",
              "      <td>0</td>\n",
              "      <td>7.2500</td>\n",
              "      <td>3.0</td>\n",
              "      <td>0</td>\n",
              "    </tr>\n",
              "    <tr>\n",
              "      <th>1</th>\n",
              "      <td>1</td>\n",
              "      <td>1</td>\n",
              "      <td>38.0</td>\n",
              "      <td>1</td>\n",
              "      <td>0</td>\n",
              "      <td>71.2833</td>\n",
              "      <td>1.0</td>\n",
              "      <td>1</td>\n",
              "    </tr>\n",
              "    <tr>\n",
              "      <th>2</th>\n",
              "      <td>3</td>\n",
              "      <td>1</td>\n",
              "      <td>26.0</td>\n",
              "      <td>0</td>\n",
              "      <td>0</td>\n",
              "      <td>7.9250</td>\n",
              "      <td>3.0</td>\n",
              "      <td>1</td>\n",
              "    </tr>\n",
              "    <tr>\n",
              "      <th>3</th>\n",
              "      <td>1</td>\n",
              "      <td>1</td>\n",
              "      <td>35.0</td>\n",
              "      <td>1</td>\n",
              "      <td>0</td>\n",
              "      <td>53.1000</td>\n",
              "      <td>3.0</td>\n",
              "      <td>1</td>\n",
              "    </tr>\n",
              "    <tr>\n",
              "      <th>4</th>\n",
              "      <td>3</td>\n",
              "      <td>0</td>\n",
              "      <td>35.0</td>\n",
              "      <td>0</td>\n",
              "      <td>0</td>\n",
              "      <td>8.0500</td>\n",
              "      <td>3.0</td>\n",
              "      <td>0</td>\n",
              "    </tr>\n",
              "  </tbody>\n",
              "</table>\n",
              "</div>"
            ],
            "text/plain": [
              "   Class_ticket  Sex   Age  ...     Fare  Embarked  Survived\n",
              "0             3    0  22.0  ...   7.2500       3.0         0\n",
              "1             1    1  38.0  ...  71.2833       1.0         1\n",
              "2             3    1  26.0  ...   7.9250       3.0         1\n",
              "3             1    1  35.0  ...  53.1000       3.0         1\n",
              "4             3    0  35.0  ...   8.0500       3.0         0\n",
              "\n",
              "[5 rows x 8 columns]"
            ]
          },
          "metadata": {
            "tags": []
          },
          "execution_count": 223
        }
      ]
    },
    {
      "cell_type": "code",
      "metadata": {
        "id": "n77k7DpanDQq",
        "colab_type": "code",
        "colab": {
          "base_uri": "https://localhost:8080/",
          "height": 283
        },
        "outputId": "583de87b-7945-4baf-bc83-26402751c894"
      },
      "source": [
        "dftitanic.info()"
      ],
      "execution_count": null,
      "outputs": [
        {
          "output_type": "stream",
          "text": [
            "<class 'pandas.core.frame.DataFrame'>\n",
            "Index: 1309 entries, 0 to 1308\n",
            "Data columns (total 8 columns):\n",
            " #   Column            Non-Null Count  Dtype  \n",
            "---  ------            --------------  -----  \n",
            " 0   Class_ticket      1309 non-null   int64  \n",
            " 1   Sex               1309 non-null   int64  \n",
            " 2   Age               1309 non-null   float64\n",
            " 3   Brothers_spouses  1309 non-null   int64  \n",
            " 4   Parents_children  1309 non-null   int64  \n",
            " 5   Fare              1309 non-null   float64\n",
            " 6   Embarked          1309 non-null   float64\n",
            " 7   Survived          1309 non-null   int64  \n",
            "dtypes: float64(3), int64(5)\n",
            "memory usage: 132.0+ KB\n"
          ],
          "name": "stdout"
        }
      ]
    },
    {
      "cell_type": "code",
      "metadata": {
        "id": "4PxTTfBmarr7",
        "colab_type": "code",
        "colab": {}
      },
      "source": [
        "# separando os atributos e a classe do dataset\n",
        "array = dftitanic.values\n",
        "X = array[:,0:7]\n",
        "Y = array[:,7]\n",
        "\n",
        "# definindo o tamanho do conjunto de teste\n",
        "test_size = 0.20 \n",
        "\n",
        "# A semente (seed) pode ser qualquer número, e garante que os resultados possam ser reproduzidos de forma idêntica toda vez que o script for rodado. \n",
        "# Isto é muito importante quando trabalhamos com modelos ou métodos que utilizam de algum tipo de aleatoriedade.\n",
        "seed = 7\n",
        "\n",
        "# particionando em conjuntos de treino e teste\n",
        "X_train, X_test, Y_train, Y_test = train_test_split(X, Y, test_size=test_size, random_state=seed)"
      ],
      "execution_count": null,
      "outputs": []
    },
    {
      "cell_type": "code",
      "metadata": {
        "id": "dqMLavvda7EY",
        "colab_type": "code",
        "colab": {}
      },
      "source": [
        "# definindo a métrica de avaliação dos algoritmos\n",
        "scoring = 'accuracy'\n",
        "# scoring = 'roc_auc'\n",
        "\n",
        "kfold = KFold(n_splits=10)"
      ],
      "execution_count": null,
      "outputs": []
    },
    {
      "cell_type": "markdown",
      "metadata": {
        "id": "mogI7V_4a8Ps",
        "colab_type": "text"
      },
      "source": [
        "Seleção Univariada"
      ]
    },
    {
      "cell_type": "code",
      "metadata": {
        "id": "-isJ9o86a8lW",
        "colab_type": "code",
        "colab": {
          "base_uri": "https://localhost:8080/",
          "height": 176
        },
        "outputId": "4450f44e-d5d4-47bb-ccb9-4ce3180a5e21"
      },
      "source": [
        "# Função para seleção de atributos\n",
        "best_var = SelectKBest(score_func=chi2, k=4)\n",
        "\n",
        "# Executa a função de pontuação em (X_train, Y_train) e obtém os atributos selecionados\n",
        "fit = best_var.fit(X_train, Y_train)\n",
        "\n",
        "# Reduz X para os atributos selecionados\n",
        "features = fit.transform(X_train)\n",
        "\n",
        "# Resultados\n",
        "print('\\nNúmero original de atributos:', X.shape[1])\n",
        "print('\\nNúmero reduzido de atributos:', features.shape[1])\n",
        "\n",
        "# Exibe os atributos orginais\n",
        "print(\"\\nAtributos Originais:\", dftitanic.columns[0:7])\n",
        "\n",
        "# Exibe as pontuações de cada atributos e os 4 escolhidas (com as pontuações mais altas): Fare, Sex, Embarked e Pclass.\n",
        "# (Basta mapear manualmente o índice dos nomes dos respectivos atributos)\n",
        "set_printoptions() # 3 casas decimais\n",
        "print(fit.scores_)"
      ],
      "execution_count": null,
      "outputs": [
        {
          "output_type": "stream",
          "text": [
            "\n",
            "Número original de atributos: 7\n",
            "\n",
            "Número reduzido de atributos: 4\n",
            "\n",
            "Atributos Originais: Index(['Class_ticket', 'Sex', 'Age', 'Brothers_spouses', 'Parents_children',\n",
            "       'Fare', 'Embarked'],\n",
            "      dtype='object')\n",
            "[2.096e+01 3.167e+02 6.878e+00 1.358e+00 2.674e+01 4.702e+03 5.998e+00]\n"
          ],
          "name": "stdout"
        }
      ]
    },
    {
      "cell_type": "markdown",
      "metadata": {
        "id": "Ks6zaplBbmmj",
        "colab_type": "text"
      },
      "source": [
        "Eliminação Recursiva de Atributos"
      ]
    },
    {
      "cell_type": "code",
      "metadata": {
        "id": "504-WmiwbY-Y",
        "colab_type": "code",
        "colab": {
          "base_uri": "https://localhost:8080/",
          "height": 176
        },
        "outputId": "52ef5b54-6085-4458-a6e8-3135e405750a"
      },
      "source": [
        "# Criação do modelo\n",
        "modelo = LogisticRegression(max_iter=200)\n",
        "\n",
        "# Eliminação Recursiva de Variáveis\n",
        "rfe = RFE(modelo, 4)\n",
        "fit = rfe.fit(X_train, Y_train)\n",
        "\n",
        "# Print dos resultados\n",
        "print(\"Atributos preditores:\", dftitanic.columns[0:7])\n",
        "\n",
        "# Exibe os atributos selecionados (marcados como True em \"Atributos Selecionados\" \n",
        "# e com valor 1 em \"Ranking dos Atributos\")\n",
        "# (Basta mapear manualmente o índice dos nomes dos respectivos atributos)\n",
        "print(\"\\nAtributos selecionados: %s\" % fit.support_)\n",
        "print(\"\\nRanking de atributos: %s\" % fit.ranking_)\n",
        "print(\"\\nQtd de melhores Atributos: %d\" % fit.n_features_)"
      ],
      "execution_count": null,
      "outputs": [
        {
          "output_type": "stream",
          "text": [
            "Atributos preditores: Index(['Class_ticket', 'Sex', 'Age', 'Brothers_spouses', 'Parents_children',\n",
            "       'Fare', 'Embarked'],\n",
            "      dtype='object')\n",
            "\n",
            "Atributos selecionados: [ True  True False  True False False  True]\n",
            "\n",
            "Ranking de atributos: [1 1 3 1 2 4 1]\n",
            "\n",
            "Qtd de melhores Atributos: 4\n"
          ],
          "name": "stdout"
        }
      ]
    },
    {
      "cell_type": "markdown",
      "metadata": {
        "id": "GKoCtRIylmI3",
        "colab_type": "text"
      },
      "source": [
        "#**9.** **Conclusão**"
      ]
    },
    {
      "cell_type": "markdown",
      "metadata": {
        "id": "a0fqeSubLjsy",
        "colab_type": "text"
      },
      "source": [
        "\n",
        "\n",
        "* Este estudo foi realizado no dataset do Titanic oriundo do site Kaggle.\n",
        "\n",
        "* Na análise exploratória foi realizada uma verificação de cada atributo com relação à classe Sobrevivente podendo assim ter vários insights do mesmo.\n",
        "\n",
        "* O Pre-processamento foi bastante trabalhoso, sendo necessário realizar diversos ajustes na base, como deleção de atributos, ajustes de categorização, tratamento de dados faltantes, entre outros.\n",
        "\n",
        "* Na etapa de avaliação dos modelos com os dados em sua forma base, os modelos de Regressão Logística e Naive Bayes obtiveram os melhores resultados.\n",
        "\n",
        "* Em seguida com os dados padronizados, os modelos de Regressão Logística e SVM obtiveram os melhores resultados. E normalizados, os resultados foram próximos porém um pouco mais altos que os modelos anteriores, estes foram os modelos de Regressão Logística, KNN e SVM.\n",
        "\n",
        "* Seguimos aplicando diversos modelos para esse problema de classificação, tivemos como destaque o Modelo KNN (apliacado o Tunning) com os dados padronizados com os seguintes parâmetros: {'metric': 'euclidean', 'n_neighbors': 13}, este obteve a melhor acurácia para o problema 0.869185.\n",
        "\n",
        "* Aplicando os dados de teste neste modelo atingimos 0.86259 de acurária, a medida escolhida para avaliação do modelo.\n",
        "\n",
        "* Utilizamos também os modelos Ensemble que tiveram acurácia bem próxima dos valores que os modelos menos sofisticados apresentaram, mas ainda sim o modelo KNN seguiu com o melhor resultado.\n",
        "\n"
      ]
    }
  ]
}